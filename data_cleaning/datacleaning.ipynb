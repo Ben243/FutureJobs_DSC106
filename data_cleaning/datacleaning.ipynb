{
 "metadata": {
  "language_info": {
   "codemirror_mode": {
    "name": "ipython",
    "version": 3
   },
   "file_extension": ".py",
   "mimetype": "text/x-python",
   "name": "python",
   "nbconvert_exporter": "python",
   "pygments_lexer": "ipython3",
   "version": "3.7.4-final"
  },
  "orig_nbformat": 2,
  "kernelspec": {
   "name": "python3",
   "display_name": "Python 3",
   "language": "python"
  }
 },
 "nbformat": 4,
 "nbformat_minor": 2,
 "cells": [
  {
   "cell_type": "code",
   "execution_count": 2,
   "metadata": {},
   "outputs": [],
   "source": [
    "import pandas as pd\n",
    "from io import StringIO\n",
    "import numpy as np\n",
    "from bs4 import BeautifulSoup\n",
    "import json"
   ]
  },
  {
   "source": [
    "# JOBS"
   ],
   "cell_type": "markdown",
   "metadata": {}
  },
  {
   "cell_type": "code",
   "execution_count": 20,
   "metadata": {},
   "outputs": [],
   "source": [
    "with open('Bureau of Labor Statistics Data.html', 'r') as f:\n",
    "    contents = f.read()\n",
    "soup = BeautifulSoup(contents, 'lxml')\n",
    "tables = soup.findAll('table')[1:]"
   ]
  },
  {
   "cell_type": "code",
   "execution_count": 141,
   "metadata": {},
   "outputs": [
    {
     "output_type": "execute_result",
     "data": {
      "text/plain": [
       "Month\n",
       "Jan 2019   -11579\n",
       "Feb 2019   -10620\n",
       "Mar 2019   -11126\n",
       "Apr 2019   -11101\n",
       "May 2019   -11107\n",
       "Jun 2019   -10968\n",
       "Jul 2019   -10957\n",
       "Aug 2019   -10794\n",
       "Sep 2019   -10607\n",
       "Oct 2019   -11129\n",
       "Nov 2019   -10365\n",
       "Dec 2019    -9829\n",
       "Jan 2020   -10491\n",
       "Feb 2020   -10427\n",
       "Mar 2020    -8854\n",
       "Apr 2020    -7147\n",
       "May 2020    -7901\n",
       "Jun 2020    -8993\n",
       "Jul 2020    -9839\n",
       "Aug 2020    -9460\n",
       "Sep 2020    -9717\n",
       "Oct 2020   -10019\n",
       "dtype: int64"
      ]
     },
     "metadata": {},
     "execution_count": 141
    }
   ],
   "source": [
    "tables[0].caption.find('strong', text='Industry:\\xa0\\xa0\\xa0\\xa0\\xa0\\xa0').next_sibling\n",
    "ind = {}\n",
    "for table in tables: \n",
    "    coln = table.caption.find('strong', text='Industry:\\xa0\\xa0\\xa0\\xa0\\xa0\\xa0').next_sibling\n",
    "    ind[coln] =  pd.read_html(str(table))[0].iloc[:3, :13].set_index('Year').stack()\n",
    "df = pd.concat(ind, axis=1)\n",
    "df = df.reset_index().rename({'level_1': 'Month'}, axis=1)\n",
    "df['Month'] = df['Month'].apply(lambda x: x+' ')+df['Year'].apply(str)\n",
    "df = df.drop('Year', axis=1).set_index('Month')\n",
    "# df.to_json('job_openings_2018_2020_bls.json')\n",
    "df = df.applymap(lambda x: x.replace('(C)','').replace('(P)','')).astype(int)\n",
    "# df.to_json(orient='records')\n",
    "df = df[~df.index.str.contains('2018')]\n",
    "df['Total private']-df[privatelist].sum(axis=1)\n",
    "# json_str = df.to_dict()\n",
    "# str([{'name': key, 'data': list(json_str[key].values())} for key in json_str.keys()])"
   ]
  },
  {
   "cell_type": "code",
   "execution_count": 142,
   "metadata": {},
   "outputs": [
    {
     "output_type": "execute_result",
     "data": {
      "text/plain": [
       "Month\n",
       "Jan 2019    18387\n",
       "Feb 2019    16963\n",
       "Mar 2019    17751\n",
       "Apr 2019    17641\n",
       "May 2019    17707\n",
       "Jun 2019    17465\n",
       "Jul 2019    17486\n",
       "Aug 2019    17223\n",
       "Sep 2019    16932\n",
       "Oct 2019    17675\n",
       "Nov 2019    16435\n",
       "Dec 2019    15667\n",
       "Jan 2020    16722\n",
       "Feb 2020    16663\n",
       "Mar 2020    14138\n",
       "Apr 2020    11479\n",
       "May 2020    12637\n",
       "Jun 2020    14340\n",
       "Jul 2020    15718\n",
       "Aug 2020    15096\n",
       "Sep 2020    15512\n",
       "Oct 2020    15969\n",
       "dtype: int64"
      ]
     },
     "metadata": {},
     "execution_count": 142
    }
   ],
   "source": [
    "\n",
    "df[privatelist].sum(axis=1)"
   ]
  },
  {
   "cell_type": "code",
   "execution_count": 143,
   "metadata": {},
   "outputs": [
    {
     "output_type": "execute_result",
     "data": {
      "text/plain": [
       "Month\n",
       "Jan 2019    6808\n",
       "Feb 2019    6343\n",
       "Mar 2019    6625\n",
       "Apr 2019    6540\n",
       "May 2019    6600\n",
       "Jun 2019    6497\n",
       "Jul 2019    6529\n",
       "Aug 2019    6429\n",
       "Sep 2019    6325\n",
       "Oct 2019    6546\n",
       "Nov 2019    6070\n",
       "Dec 2019    5838\n",
       "Jan 2020    6231\n",
       "Feb 2020    6236\n",
       "Mar 2020    5284\n",
       "Apr 2020    4332\n",
       "May 2020    4736\n",
       "Jun 2020    5347\n",
       "Jul 2020    5879\n",
       "Aug 2020    5636\n",
       "Sep 2020    5795\n",
       "Oct 2020    5950\n",
       "Name: Total private, dtype: int32"
      ]
     },
     "metadata": {},
     "execution_count": 143
    }
   ],
   "source": [
    "\n",
    "df['Total private']"
   ]
  },
  {
   "cell_type": "code",
   "execution_count": 144,
   "metadata": {},
   "outputs": [
    {
     "output_type": "execute_result",
     "data": {
      "text/plain": [
       "['Total nonfarm',\n",
       " 'Total private',\n",
       " 'Mining and logging',\n",
       " 'Construction',\n",
       " 'Manufacturing',\n",
       " 'Durable goods manufacturing',\n",
       " 'Nondurable goods manufacturing',\n",
       " 'Trade, transportation, and utilities',\n",
       " 'Wholesale trade',\n",
       " 'Retail trade',\n",
       " 'Transportation, warehousing, and utilities',\n",
       " 'Information',\n",
       " 'Financial activities',\n",
       " 'Finance and insurance',\n",
       " 'Real estate and rental and leasing',\n",
       " 'Professional and business services',\n",
       " 'Education and health services',\n",
       " 'Educational services',\n",
       " 'Health care and social assistance',\n",
       " 'Leisure and hospitality',\n",
       " 'Arts, entertainment, and recreation',\n",
       " 'Accommodation and food services',\n",
       " 'Other services',\n",
       " 'Government',\n",
       " 'Federal',\n",
       " 'State and local',\n",
       " 'State and local government education',\n",
       " 'State and local government, excluding education']"
      ]
     },
     "metadata": {},
     "execution_count": 144
    }
   ],
   "source": [
    "df.columns.tolist()"
   ]
  },
  {
   "cell_type": "code",
   "execution_count": 145,
   "metadata": {},
   "outputs": [],
   "source": [
    "final_list = ['Mining and logging', 'Construction', 'Manufacturing', 'Wholesale trade', 'Retail trade', 'Transportation, warehousing, and utilities', 'Information', 'Financial activities', 'Professional and business services', 'Education and health services', 'Leisure and hospitality', 'Other services', 'Federal', 'State and local']\n",
    "df = df[final_list]\n"
   ]
  },
  {
   "cell_type": "code",
   "execution_count": 146,
   "metadata": {},
   "outputs": [
    {
     "output_type": "execute_result",
     "data": {
      "text/plain": [
       "          Mining and logging  Construction  Manufacturing  Wholesale trade  \\\n",
       "Month                                                                        \n",
       "Jan 2019                  31           299            427              279   \n",
       "Feb 2019                  29           277            462              217   \n",
       "Mar 2019                  30           354            441              217   \n",
       "Apr 2019                  31           430            479              264   \n",
       "May 2019                  29           373            482              214   \n",
       "Jun 2019                  29           325            486              206   \n",
       "Jul 2019                  40           353            477              169   \n",
       "Aug 2019                  33           353            445              188   \n",
       "Sep 2019                  34           333            441              193   \n",
       "Oct 2019                  23           325            403              268   \n",
       "Nov 2019                  20           215            401              188   \n",
       "Dec 2019                  13           216            360              187   \n",
       "Jan 2020                  19           267            408              172   \n",
       "Feb 2020                  26           296            422              183   \n",
       "Mar 2020                  12           240            310              156   \n",
       "Apr 2020                  10           247            315              145   \n",
       "May 2020                  10           315            306              153   \n",
       "Jun 2020                  16           244            346              163   \n",
       "Jul 2020                  16           332            430              179   \n",
       "Aug 2020                  15           275            469              187   \n",
       "Sep 2020                  17           223            492              180   \n",
       "Oct 2020                  22           230            525              178   \n",
       "\n",
       "          Retail trade  Transportation, warehousing, and utilities  \\\n",
       "Month                                                                \n",
       "Jan 2019           808                                         342   \n",
       "Feb 2019           791                                         250   \n",
       "Mar 2019           749                                         332   \n",
       "Apr 2019           740                                         342   \n",
       "May 2019           746                                         323   \n",
       "Jun 2019           813                                         323   \n",
       "Jul 2019           838                                         281   \n",
       "Aug 2019           792                                         308   \n",
       "Sep 2019           743                                         345   \n",
       "Oct 2019           877                                         327   \n",
       "Nov 2019           752                                         331   \n",
       "Dec 2019           762                                         244   \n",
       "Jan 2020           759                                         283   \n",
       "Feb 2020           715                                         270   \n",
       "Mar 2020           626                                         286   \n",
       "Apr 2020           521                                         217   \n",
       "May 2020           670                                         174   \n",
       "Jun 2020           669                                         243   \n",
       "Jul 2020           773                                         228   \n",
       "Aug 2020           705                                         238   \n",
       "Sep 2020           671                                         291   \n",
       "Oct 2020           667                                         257   \n",
       "\n",
       "          Information  Financial activities  \\\n",
       "Month                                         \n",
       "Jan 2019          147                   411   \n",
       "Feb 2019          129                   353   \n",
       "Mar 2019          146                   362   \n",
       "Apr 2019          120                   343   \n",
       "May 2019          127                   367   \n",
       "Jun 2019          120                   382   \n",
       "Jul 2019          172                   381   \n",
       "Aug 2019          131                   376   \n",
       "Sep 2019          169                   349   \n",
       "Oct 2019          142                   426   \n",
       "Nov 2019          136                   348   \n",
       "Dec 2019          146                   319   \n",
       "Jan 2020          152                   427   \n",
       "Feb 2020          132                   400   \n",
       "Mar 2020          119                   336   \n",
       "Apr 2020          132                   251   \n",
       "May 2020           78                   264   \n",
       "Jun 2020           97                   298   \n",
       "Jul 2020          106                   291   \n",
       "Aug 2020           82                   284   \n",
       "Sep 2020          121                   301   \n",
       "Oct 2020          129                   293   \n",
       "\n",
       "          Professional and business services  Education and health services  \\\n",
       "Month                                                                         \n",
       "Jan 2019                                1386                           1379   \n",
       "Feb 2019                                1404                           1205   \n",
       "Mar 2019                                1355                           1378   \n",
       "Apr 2019                                1178                           1377   \n",
       "May 2019                                1268                           1358   \n",
       "Jun 2019                                1290                           1303   \n",
       "Jul 2019                                1287                           1325   \n",
       "Aug 2019                                1288                           1315   \n",
       "Sep 2019                                1260                           1216   \n",
       "Oct 2019                                1218                           1306   \n",
       "Nov 2019                                1217                           1311   \n",
       "Dec 2019                                1223                           1203   \n",
       "Jan 2020                                1265                           1294   \n",
       "Feb 2020                                1357                           1252   \n",
       "Mar 2020                                1192                           1193   \n",
       "Apr 2020                                 982                           1051   \n",
       "May 2020                                 976                            975   \n",
       "Jun 2020                                1077                           1089   \n",
       "Jul 2020                                1178                           1288   \n",
       "Aug 2020                                1195                           1182   \n",
       "Sep 2020                                1268                           1215   \n",
       "Oct 2020                                1252                           1358   \n",
       "\n",
       "          Leisure and hospitality  Other services  Federal government  \\\n",
       "Month                                                                   \n",
       "Jan 2019                     1125             174                 139   \n",
       "Feb 2019                     1001             224                 130   \n",
       "Mar 2019                     1022             239                 136   \n",
       "Apr 2019                     1017             218                 154   \n",
       "May 2019                     1018             294                 111   \n",
       "Jun 2019                      959             260                 116   \n",
       "Jul 2019                      957             249                 129   \n",
       "Aug 2019                      943             255                 116   \n",
       "Sep 2019                      995             248                 112   \n",
       "Oct 2019                      975             256                 124   \n",
       "Nov 2019                      966             185                 117   \n",
       "Dec 2019                      916             250                  88   \n",
       "Jan 2020                      919             264                 113   \n",
       "Feb 2020                      950             232                 119   \n",
       "Mar 2020                      664             147                 131   \n",
       "Apr 2020                      314             147                 114   \n",
       "May 2020                      622             194                  70   \n",
       "Jun 2020                      838             268                 112   \n",
       "Jul 2020                      770             288                 281   \n",
       "Aug 2020                      761             242                 123   \n",
       "Sep 2020                      772             243                  95   \n",
       "Oct 2020                      791             247                 101   \n",
       "\n",
       "          State and local government  \n",
       "Month                                 \n",
       "Jan 2019                         573  \n",
       "Feb 2019                         575  \n",
       "Mar 2019                         604  \n",
       "Apr 2019                         590  \n",
       "May 2019                         590  \n",
       "Jun 2019                         572  \n",
       "Jul 2019                         579  \n",
       "Aug 2019                         622  \n",
       "Sep 2019                         608  \n",
       "Oct 2019                         638  \n",
       "Nov 2019                         606  \n",
       "Dec 2019                         626  \n",
       "Jan 2020                         669  \n",
       "Feb 2020                         649  \n",
       "Mar 2020                         596  \n",
       "Apr 2020                         550  \n",
       "May 2020                         564  \n",
       "Jun 2020                         542  \n",
       "Jul 2020                         536  \n",
       "Aug 2020                         594  \n",
       "Sep 2020                         605  \n",
       "Oct 2020                         602  "
      ],
      "text/html": "<div>\n<style scoped>\n    .dataframe tbody tr th:only-of-type {\n        vertical-align: middle;\n    }\n\n    .dataframe tbody tr th {\n        vertical-align: top;\n    }\n\n    .dataframe thead th {\n        text-align: right;\n    }\n</style>\n<table border=\"1\" class=\"dataframe\">\n  <thead>\n    <tr style=\"text-align: right;\">\n      <th></th>\n      <th>Mining and logging</th>\n      <th>Construction</th>\n      <th>Manufacturing</th>\n      <th>Wholesale trade</th>\n      <th>Retail trade</th>\n      <th>Transportation, warehousing, and utilities</th>\n      <th>Information</th>\n      <th>Financial activities</th>\n      <th>Professional and business services</th>\n      <th>Education and health services</th>\n      <th>Leisure and hospitality</th>\n      <th>Other services</th>\n      <th>Federal government</th>\n      <th>State and local government</th>\n    </tr>\n    <tr>\n      <th>Month</th>\n      <th></th>\n      <th></th>\n      <th></th>\n      <th></th>\n      <th></th>\n      <th></th>\n      <th></th>\n      <th></th>\n      <th></th>\n      <th></th>\n      <th></th>\n      <th></th>\n      <th></th>\n      <th></th>\n    </tr>\n  </thead>\n  <tbody>\n    <tr>\n      <td>Jan 2019</td>\n      <td>31</td>\n      <td>299</td>\n      <td>427</td>\n      <td>279</td>\n      <td>808</td>\n      <td>342</td>\n      <td>147</td>\n      <td>411</td>\n      <td>1386</td>\n      <td>1379</td>\n      <td>1125</td>\n      <td>174</td>\n      <td>139</td>\n      <td>573</td>\n    </tr>\n    <tr>\n      <td>Feb 2019</td>\n      <td>29</td>\n      <td>277</td>\n      <td>462</td>\n      <td>217</td>\n      <td>791</td>\n      <td>250</td>\n      <td>129</td>\n      <td>353</td>\n      <td>1404</td>\n      <td>1205</td>\n      <td>1001</td>\n      <td>224</td>\n      <td>130</td>\n      <td>575</td>\n    </tr>\n    <tr>\n      <td>Mar 2019</td>\n      <td>30</td>\n      <td>354</td>\n      <td>441</td>\n      <td>217</td>\n      <td>749</td>\n      <td>332</td>\n      <td>146</td>\n      <td>362</td>\n      <td>1355</td>\n      <td>1378</td>\n      <td>1022</td>\n      <td>239</td>\n      <td>136</td>\n      <td>604</td>\n    </tr>\n    <tr>\n      <td>Apr 2019</td>\n      <td>31</td>\n      <td>430</td>\n      <td>479</td>\n      <td>264</td>\n      <td>740</td>\n      <td>342</td>\n      <td>120</td>\n      <td>343</td>\n      <td>1178</td>\n      <td>1377</td>\n      <td>1017</td>\n      <td>218</td>\n      <td>154</td>\n      <td>590</td>\n    </tr>\n    <tr>\n      <td>May 2019</td>\n      <td>29</td>\n      <td>373</td>\n      <td>482</td>\n      <td>214</td>\n      <td>746</td>\n      <td>323</td>\n      <td>127</td>\n      <td>367</td>\n      <td>1268</td>\n      <td>1358</td>\n      <td>1018</td>\n      <td>294</td>\n      <td>111</td>\n      <td>590</td>\n    </tr>\n    <tr>\n      <td>Jun 2019</td>\n      <td>29</td>\n      <td>325</td>\n      <td>486</td>\n      <td>206</td>\n      <td>813</td>\n      <td>323</td>\n      <td>120</td>\n      <td>382</td>\n      <td>1290</td>\n      <td>1303</td>\n      <td>959</td>\n      <td>260</td>\n      <td>116</td>\n      <td>572</td>\n    </tr>\n    <tr>\n      <td>Jul 2019</td>\n      <td>40</td>\n      <td>353</td>\n      <td>477</td>\n      <td>169</td>\n      <td>838</td>\n      <td>281</td>\n      <td>172</td>\n      <td>381</td>\n      <td>1287</td>\n      <td>1325</td>\n      <td>957</td>\n      <td>249</td>\n      <td>129</td>\n      <td>579</td>\n    </tr>\n    <tr>\n      <td>Aug 2019</td>\n      <td>33</td>\n      <td>353</td>\n      <td>445</td>\n      <td>188</td>\n      <td>792</td>\n      <td>308</td>\n      <td>131</td>\n      <td>376</td>\n      <td>1288</td>\n      <td>1315</td>\n      <td>943</td>\n      <td>255</td>\n      <td>116</td>\n      <td>622</td>\n    </tr>\n    <tr>\n      <td>Sep 2019</td>\n      <td>34</td>\n      <td>333</td>\n      <td>441</td>\n      <td>193</td>\n      <td>743</td>\n      <td>345</td>\n      <td>169</td>\n      <td>349</td>\n      <td>1260</td>\n      <td>1216</td>\n      <td>995</td>\n      <td>248</td>\n      <td>112</td>\n      <td>608</td>\n    </tr>\n    <tr>\n      <td>Oct 2019</td>\n      <td>23</td>\n      <td>325</td>\n      <td>403</td>\n      <td>268</td>\n      <td>877</td>\n      <td>327</td>\n      <td>142</td>\n      <td>426</td>\n      <td>1218</td>\n      <td>1306</td>\n      <td>975</td>\n      <td>256</td>\n      <td>124</td>\n      <td>638</td>\n    </tr>\n    <tr>\n      <td>Nov 2019</td>\n      <td>20</td>\n      <td>215</td>\n      <td>401</td>\n      <td>188</td>\n      <td>752</td>\n      <td>331</td>\n      <td>136</td>\n      <td>348</td>\n      <td>1217</td>\n      <td>1311</td>\n      <td>966</td>\n      <td>185</td>\n      <td>117</td>\n      <td>606</td>\n    </tr>\n    <tr>\n      <td>Dec 2019</td>\n      <td>13</td>\n      <td>216</td>\n      <td>360</td>\n      <td>187</td>\n      <td>762</td>\n      <td>244</td>\n      <td>146</td>\n      <td>319</td>\n      <td>1223</td>\n      <td>1203</td>\n      <td>916</td>\n      <td>250</td>\n      <td>88</td>\n      <td>626</td>\n    </tr>\n    <tr>\n      <td>Jan 2020</td>\n      <td>19</td>\n      <td>267</td>\n      <td>408</td>\n      <td>172</td>\n      <td>759</td>\n      <td>283</td>\n      <td>152</td>\n      <td>427</td>\n      <td>1265</td>\n      <td>1294</td>\n      <td>919</td>\n      <td>264</td>\n      <td>113</td>\n      <td>669</td>\n    </tr>\n    <tr>\n      <td>Feb 2020</td>\n      <td>26</td>\n      <td>296</td>\n      <td>422</td>\n      <td>183</td>\n      <td>715</td>\n      <td>270</td>\n      <td>132</td>\n      <td>400</td>\n      <td>1357</td>\n      <td>1252</td>\n      <td>950</td>\n      <td>232</td>\n      <td>119</td>\n      <td>649</td>\n    </tr>\n    <tr>\n      <td>Mar 2020</td>\n      <td>12</td>\n      <td>240</td>\n      <td>310</td>\n      <td>156</td>\n      <td>626</td>\n      <td>286</td>\n      <td>119</td>\n      <td>336</td>\n      <td>1192</td>\n      <td>1193</td>\n      <td>664</td>\n      <td>147</td>\n      <td>131</td>\n      <td>596</td>\n    </tr>\n    <tr>\n      <td>Apr 2020</td>\n      <td>10</td>\n      <td>247</td>\n      <td>315</td>\n      <td>145</td>\n      <td>521</td>\n      <td>217</td>\n      <td>132</td>\n      <td>251</td>\n      <td>982</td>\n      <td>1051</td>\n      <td>314</td>\n      <td>147</td>\n      <td>114</td>\n      <td>550</td>\n    </tr>\n    <tr>\n      <td>May 2020</td>\n      <td>10</td>\n      <td>315</td>\n      <td>306</td>\n      <td>153</td>\n      <td>670</td>\n      <td>174</td>\n      <td>78</td>\n      <td>264</td>\n      <td>976</td>\n      <td>975</td>\n      <td>622</td>\n      <td>194</td>\n      <td>70</td>\n      <td>564</td>\n    </tr>\n    <tr>\n      <td>Jun 2020</td>\n      <td>16</td>\n      <td>244</td>\n      <td>346</td>\n      <td>163</td>\n      <td>669</td>\n      <td>243</td>\n      <td>97</td>\n      <td>298</td>\n      <td>1077</td>\n      <td>1089</td>\n      <td>838</td>\n      <td>268</td>\n      <td>112</td>\n      <td>542</td>\n    </tr>\n    <tr>\n      <td>Jul 2020</td>\n      <td>16</td>\n      <td>332</td>\n      <td>430</td>\n      <td>179</td>\n      <td>773</td>\n      <td>228</td>\n      <td>106</td>\n      <td>291</td>\n      <td>1178</td>\n      <td>1288</td>\n      <td>770</td>\n      <td>288</td>\n      <td>281</td>\n      <td>536</td>\n    </tr>\n    <tr>\n      <td>Aug 2020</td>\n      <td>15</td>\n      <td>275</td>\n      <td>469</td>\n      <td>187</td>\n      <td>705</td>\n      <td>238</td>\n      <td>82</td>\n      <td>284</td>\n      <td>1195</td>\n      <td>1182</td>\n      <td>761</td>\n      <td>242</td>\n      <td>123</td>\n      <td>594</td>\n    </tr>\n    <tr>\n      <td>Sep 2020</td>\n      <td>17</td>\n      <td>223</td>\n      <td>492</td>\n      <td>180</td>\n      <td>671</td>\n      <td>291</td>\n      <td>121</td>\n      <td>301</td>\n      <td>1268</td>\n      <td>1215</td>\n      <td>772</td>\n      <td>243</td>\n      <td>95</td>\n      <td>605</td>\n    </tr>\n    <tr>\n      <td>Oct 2020</td>\n      <td>22</td>\n      <td>230</td>\n      <td>525</td>\n      <td>178</td>\n      <td>667</td>\n      <td>257</td>\n      <td>129</td>\n      <td>293</td>\n      <td>1252</td>\n      <td>1358</td>\n      <td>791</td>\n      <td>247</td>\n      <td>101</td>\n      <td>602</td>\n    </tr>\n  </tbody>\n</table>\n</div>"
     },
     "metadata": {},
     "execution_count": 146
    }
   ],
   "source": [
    "df = df.rename({'Federal': 'Federal government', 'State and local': 'State and local government'}, axis=1)\n",
    "df"
   ]
  },
  {
   "cell_type": "code",
   "execution_count": 147,
   "metadata": {},
   "outputs": [
    {
     "output_type": "execute_result",
     "data": {
      "text/plain": [
       "\"[{'name': 'Mining and logging', 'data': [31, 29, 30, 31, 29, 29, 40, 33, 34, 23, 20, 13, 19, 26, 12, 10, 10, 16, 16, 15, 17, 22]}, {'name': 'Construction', 'data': [299, 277, 354, 430, 373, 325, 353, 353, 333, 325, 215, 216, 267, 296, 240, 247, 315, 244, 332, 275, 223, 230]}, {'name': 'Manufacturing', 'data': [427, 462, 441, 479, 482, 486, 477, 445, 441, 403, 401, 360, 408, 422, 310, 315, 306, 346, 430, 469, 492, 525]}, {'name': 'Wholesale trade', 'data': [279, 217, 217, 264, 214, 206, 169, 188, 193, 268, 188, 187, 172, 183, 156, 145, 153, 163, 179, 187, 180, 178]}, {'name': 'Retail trade', 'data': [808, 791, 749, 740, 746, 813, 838, 792, 743, 877, 752, 762, 759, 715, 626, 521, 670, 669, 773, 705, 671, 667]}, {'name': 'Transportation, warehousing, and utilities', 'data': [342, 250, 332, 342, 323, 323, 281, 308, 345, 327, 331, 244, 283, 270, 286, 217, 174, 243, 228, 238, 291, 257]}, {'name': 'Information', 'data': [147, 129, 146, 120, 127, 120, 172, 131, 169, 142, 136, 146, 152, 132, 119, 132, 78, 97, 106, 82, 121, 129]}, {'name': 'Financial activities', 'data': [411, 353, 362, 343, 367, 382, 381, 376, 349, 426, 348, 319, 427, 400, 336, 251, 264, 298, 291, 284, 301, 293]}, {'name': 'Professional and business services', 'data': [1386, 1404, 1355, 1178, 1268, 1290, 1287, 1288, 1260, 1218, 1217, 1223, 1265, 1357, 1192, 982, 976, 1077, 1178, 1195, 1268, 1252]}, {'name': 'Education and health services', 'data': [1379, 1205, 1378, 1377, 1358, 1303, 1325, 1315, 1216, 1306, 1311, 1203, 1294, 1252, 1193, 1051, 975, 1089, 1288, 1182, 1215, 1358]}, {'name': 'Leisure and hospitality', 'data': [1125, 1001, 1022, 1017, 1018, 959, 957, 943, 995, 975, 966, 916, 919, 950, 664, 314, 622, 838, 770, 761, 772, 791]}, {'name': 'Other services', 'data': [174, 224, 239, 218, 294, 260, 249, 255, 248, 256, 185, 250, 264, 232, 147, 147, 194, 268, 288, 242, 243, 247]}, {'name': 'Federal government', 'data': [139, 130, 136, 154, 111, 116, 129, 116, 112, 124, 117, 88, 113, 119, 131, 114, 70, 112, 281, 123, 95, 101]}, {'name': 'State and local government', 'data': [573, 575, 604, 590, 590, 572, 579, 622, 608, 638, 606, 626, 669, 649, 596, 550, 564, 542, 536, 594, 605, 602]}]\""
      ]
     },
     "metadata": {},
     "execution_count": 147
    }
   ],
   "source": [
    "final = df.to_dict()\n",
    "str([{'name': key, 'data': list(final[key].values())} for key in final.keys()])"
   ]
  },
  {
   "cell_type": "code",
   "execution_count": 113,
   "metadata": {},
   "outputs": [
    {
     "output_type": "execute_result",
     "data": {
      "text/plain": [
       "'[835, 771, 806, 801, 804, 793, 794, 782, 769, 803, 747, 712, 760, 757, 642, 521, 574, 651, 714, 686, 705, 725]'"
      ]
     },
     "metadata": {},
     "execution_count": 113
    }
   ],
   "source": [
    "privatelist = ['Total private',\n",
    " 'Mining and logging',\n",
    " 'Construction',\n",
    " 'Manufacturing',\n",
    " 'Durable goods manufacturing',\n",
    " 'Nondurable goods manufacturing',\n",
    " 'Trade, transportation, and utilities',\n",
    " 'Wholesale trade',\n",
    " 'Retail trade',\n",
    " 'Transportation, warehousing, and utilities',\n",
    " 'Information',\n",
    " 'Financial activities',\n",
    " 'Finance and insurance',\n",
    " 'Real estate and rental and leasing',\n",
    " 'Professional and business services',\n",
    " 'Education and health services',\n",
    " 'Educational services',\n",
    " 'Health care and social assistance',\n",
    " 'Leisure and hospitality',\n",
    " 'Arts, entertainment, and recreation',\n",
    " 'Accommodation and food services',\n",
    " 'Other services']\n",
    "str((df[privatelist].sum(axis=1)//len(privatelist)).tolist())\n",
    "#\"Average Private\""
   ]
  },
  {
   "cell_type": "code",
   "execution_count": null,
   "metadata": {},
   "outputs": [],
   "source": []
  },
  {
   "cell_type": "code",
   "execution_count": 107,
   "metadata": {},
   "outputs": [
    {
     "output_type": "execute_result",
     "data": {
      "text/plain": [
       "\"['Durable goods manufacturing', 'Nondurable goods manufacturing', 'Wholesale trade', 'Retail trade', 'Transportation, warehousing, and utilities', 'Finance and insurance', 'Real estate and rental and leasing', 'Educational services', 'Health care and social assistance', 'Arts, entertainment, and recreation', 'Accommodation and food services', 'State and local government education', 'State and local government, excluding education']\""
      ]
     },
     "metadata": {},
     "execution_count": 107
    }
   ],
   "source": [
    "str(['Durable goods manufacturing',\n",
    " 'Nondurable goods manufacturing','Wholesale trade',\n",
    " 'Retail trade','Transportation, warehousing, and utilities','Finance and insurance',\n",
    " 'Real estate and rental and leasing','Educational services',\n",
    " 'Health care and social assistance','Arts, entertainment, and recreation',\n",
    " 'Accommodation and food services',\n",
    " 'State and local government education',\n",
    " 'State and local government, excluding education'])"
   ]
  },
  {
   "cell_type": "code",
   "execution_count": 156,
   "metadata": {},
   "outputs": [
    {
     "output_type": "execute_result",
     "data": {
      "text/plain": [
       "\"[{'name': 'Mining and logging', 'data': [34, 17]}, {'name': 'Construction', 'data': [333, 223]}, {'name': 'Manufacturing', 'data': [441, 492]}, {'name': 'Wholesale trade', 'data': [193, 180]}, {'name': 'Retail trade', 'data': [743, 671]}, {'name': 'Transportation, warehousing, and utilities', 'data': [345, 291]}, {'name': 'Information', 'data': [169, 121]}, {'name': 'Financial activities', 'data': [349, 301]}, {'name': 'Professional and business services', 'data': [1260, 1268]}, {'name': 'Education and health services', 'data': [1216, 1215]}, {'name': 'Leisure and hospitality', 'data': [995, 772]}, {'name': 'Other services', 'data': [248, 243]}, {'name': 'Federal government', 'data': [112, 95]}, {'name': 'State and local government', 'data': [608, 605]}]\""
      ]
     },
     "metadata": {},
     "execution_count": 156
    }
   ],
   "source": [
    "slope = df[(df.index == 'Sep 2019')|(df.index == 'Sep 2020')].to_dict()\n",
    "slope\n",
    "['September 2019', 'September 2020']\n",
    "str([{'name': key, 'data': list(slope[key].values())} for key in slope.keys()])"
   ]
  },
  {
   "cell_type": "code",
   "execution_count": 94,
   "metadata": {},
   "outputs": [
    {
     "output_type": "execute_result",
     "data": {
      "text/plain": [
       "\"['Total nonfarm', 'Total private', 'Mining and logging', 'Construction', 'Manufacturing', 'Durable goods manufacturing', 'Nondurable goods manufacturing', 'Trade, transportation, and utilities', 'Wholesale trade', 'Retail trade', 'Transportation, warehousing, and utilities', 'Information', 'Financial activities', 'Finance and insurance', 'Real estate and rental and leasing', 'Professional and business services', 'Education and health services', 'Educational services', 'Health care and social assistance', 'Leisure and hospitality', 'Arts, entertainment, and recreation', 'Accommodation and food services', 'Other services', 'Government', 'Federal', 'State and local', 'State and local government education', 'State and local government, excluding education']\""
      ]
     },
     "metadata": {},
     "execution_count": 94
    }
   ],
   "source": [
    "str(df.index.to_list())\n",
    "str(df.columns.to_list())"
   ]
  },
  {
   "cell_type": "code",
   "execution_count": 83,
   "metadata": {},
   "outputs": [],
   "source": [
    "# json.dumps([{'name': key, 'data': list(value.values())} for key, value in df.items()])\n",
    "# [list(value.values()) for value in json_str.values()]\n",
    "jstr = json.dumps([{'name': key, 'data': list(json_str[key].values())} for key in json_str.keys()])\n",
    "with open('data/job_openingst.json', 'w') as f:\n",
    "    json.dump([{'name': key, 'data': list(json_str[key].values())} for key in json_str.keys()], f)"
   ]
  },
  {
   "cell_type": "code",
   "execution_count": 51,
   "metadata": {},
   "outputs": [
    {
     "output_type": "execute_result",
     "data": {
      "text/plain": [
       "Year     \n",
       "2015  Jan    5362\n",
       "      Feb    5446\n",
       "      Mar    5208\n",
       "      Apr    5712\n",
       "      May    5599\n",
       "             ... \n",
       "2020  Aug    6352\n",
       "      Sep    6494\n",
       "      Oct    6652\n",
       "      Nov     NaN\n",
       "      Dec     NaN\n",
       "Length: 72, dtype: object"
      ]
     },
     "metadata": {},
     "execution_count": 51
    }
   ],
   "source": [
    "total_nonfarm_sa.stack()"
   ]
  },
  {
   "cell_type": "code",
   "execution_count": 144,
   "metadata": {},
   "outputs": [
    {
     "output_type": "execute_result",
     "data": {
      "text/plain": [
       "         Total Nonfarm Manufacturing Prof & Business Trade, Transport, Utils  \\\n",
       "Month                                                                          \n",
       "Jan 2018          6645           440            1125                    1396   \n",
       "Feb 2018          6575           438            1115                    1323   \n",
       "Mar 2018          6865           424            1204                    1420   \n",
       "Apr 2018          6985           455            1209                    1524   \n",
       "May 2018          7028           465            1234                    1486   \n",
       "Jun 2018          7280           474            1263                    1472   \n",
       "Jul 2018          7326           478            1256                    1465   \n",
       "Aug 2018          7249           502            1322                    1289   \n",
       "Sep 2018          7282           471            1337                    1480   \n",
       "Oct 2018          7237           494            1337                    1400   \n",
       "Nov 2018          7509           502            1329                    1632   \n",
       "Dec 2018          7303           441            1351                    1436   \n",
       "Jan 2019          7520           427            1386                    1429   \n",
       "Feb 2019          7048           462            1404                    1258   \n",
       "Mar 2019          7364           441            1355                    1298   \n",
       "Apr 2019          7284           479            1178                    1346   \n",
       "May 2019          7300           482            1268                    1283   \n",
       "Jun 2019          7185           486            1290                    1342   \n",
       "Jul 2019          7236           477            1287                    1288   \n",
       "Aug 2019          7166           445            1288                    1289   \n",
       "Sep 2019          7046           441            1260                    1280   \n",
       "Oct 2019          7309           403            1218                    1472   \n",
       "Nov 2019          6793           401            1217                    1271   \n",
       "Dec 2019          6552           360            1223                    1192   \n",
       "Jan 2020          7012           408            1265                    1214   \n",
       "Feb 2020          7004           422            1357                    1168   \n",
       "Mar 2020          6011           310            1192                    1069   \n",
       "Apr 2020          4996           315             982                     883   \n",
       "May 2020          5371           306             976                     997   \n",
       "Jun 2020          6001           346            1077                    1075   \n",
       "Jul 2020          6697           430            1178                    1181   \n",
       "Aug 2020          6352           469            1195                    1130   \n",
       "Sep 2020          6494           492            1268                    1142   \n",
       "Oct 2020          6652           525            1252                    1102   \n",
       "Nov 2020           NaN           NaN             NaN                     NaN   \n",
       "Dec 2020           NaN           NaN             NaN                     NaN   \n",
       "\n",
       "         Retail Trade Education & Health Financial  \n",
       "Month                                               \n",
       "Jan 2018          902               1174       397  \n",
       "Feb 2018          856               1177       409  \n",
       "Mar 2018          926               1231       411  \n",
       "Apr 2018         1029               1234       318  \n",
       "May 2018          969               1205       359  \n",
       "Jun 2018          965               1260       374  \n",
       "Jul 2018          935               1257       439  \n",
       "Aug 2018          789               1248       414  \n",
       "Sep 2018          895               1270       366  \n",
       "Oct 2018          928               1236       415  \n",
       "Nov 2018         1088               1252       411  \n",
       "Dec 2018          945               1291       352  \n",
       "Jan 2019          808               1379       411  \n",
       "Feb 2019          791               1205       353  \n",
       "Mar 2019          749               1378       362  \n",
       "Apr 2019          740               1377       343  \n",
       "May 2019          746               1358       367  \n",
       "Jun 2019          813               1303       382  \n",
       "Jul 2019          838               1325       381  \n",
       "Aug 2019          792               1315       376  \n",
       "Sep 2019          743               1216       349  \n",
       "Oct 2019          877               1306       426  \n",
       "Nov 2019          752               1311       348  \n",
       "Dec 2019          762               1203       319  \n",
       "Jan 2020          759               1294       427  \n",
       "Feb 2020          715               1252       400  \n",
       "Mar 2020          626               1193       336  \n",
       "Apr 2020          521               1051       251  \n",
       "May 2020          670                975       264  \n",
       "Jun 2020          669               1089       298  \n",
       "Jul 2020          773               1288       291  \n",
       "Aug 2020          705               1182       284  \n",
       "Sep 2020          671               1215       301  \n",
       "Oct 2020          667               1358       293  \n",
       "Nov 2020          NaN                NaN       NaN  \n",
       "Dec 2020          NaN                NaN       NaN  "
      ],
      "text/html": "<div>\n<style scoped>\n    .dataframe tbody tr th:only-of-type {\n        vertical-align: middle;\n    }\n\n    .dataframe tbody tr th {\n        vertical-align: top;\n    }\n\n    .dataframe thead th {\n        text-align: right;\n    }\n</style>\n<table border=\"1\" class=\"dataframe\">\n  <thead>\n    <tr style=\"text-align: right;\">\n      <th></th>\n      <th>Total Nonfarm</th>\n      <th>Manufacturing</th>\n      <th>Prof &amp; Business</th>\n      <th>Trade, Transport, Utils</th>\n      <th>Retail Trade</th>\n      <th>Education &amp; Health</th>\n      <th>Financial</th>\n    </tr>\n    <tr>\n      <th>Month</th>\n      <th></th>\n      <th></th>\n      <th></th>\n      <th></th>\n      <th></th>\n      <th></th>\n      <th></th>\n    </tr>\n  </thead>\n  <tbody>\n    <tr>\n      <td>Jan 2018</td>\n      <td>6645</td>\n      <td>440</td>\n      <td>1125</td>\n      <td>1396</td>\n      <td>902</td>\n      <td>1174</td>\n      <td>397</td>\n    </tr>\n    <tr>\n      <td>Feb 2018</td>\n      <td>6575</td>\n      <td>438</td>\n      <td>1115</td>\n      <td>1323</td>\n      <td>856</td>\n      <td>1177</td>\n      <td>409</td>\n    </tr>\n    <tr>\n      <td>Mar 2018</td>\n      <td>6865</td>\n      <td>424</td>\n      <td>1204</td>\n      <td>1420</td>\n      <td>926</td>\n      <td>1231</td>\n      <td>411</td>\n    </tr>\n    <tr>\n      <td>Apr 2018</td>\n      <td>6985</td>\n      <td>455</td>\n      <td>1209</td>\n      <td>1524</td>\n      <td>1029</td>\n      <td>1234</td>\n      <td>318</td>\n    </tr>\n    <tr>\n      <td>May 2018</td>\n      <td>7028</td>\n      <td>465</td>\n      <td>1234</td>\n      <td>1486</td>\n      <td>969</td>\n      <td>1205</td>\n      <td>359</td>\n    </tr>\n    <tr>\n      <td>Jun 2018</td>\n      <td>7280</td>\n      <td>474</td>\n      <td>1263</td>\n      <td>1472</td>\n      <td>965</td>\n      <td>1260</td>\n      <td>374</td>\n    </tr>\n    <tr>\n      <td>Jul 2018</td>\n      <td>7326</td>\n      <td>478</td>\n      <td>1256</td>\n      <td>1465</td>\n      <td>935</td>\n      <td>1257</td>\n      <td>439</td>\n    </tr>\n    <tr>\n      <td>Aug 2018</td>\n      <td>7249</td>\n      <td>502</td>\n      <td>1322</td>\n      <td>1289</td>\n      <td>789</td>\n      <td>1248</td>\n      <td>414</td>\n    </tr>\n    <tr>\n      <td>Sep 2018</td>\n      <td>7282</td>\n      <td>471</td>\n      <td>1337</td>\n      <td>1480</td>\n      <td>895</td>\n      <td>1270</td>\n      <td>366</td>\n    </tr>\n    <tr>\n      <td>Oct 2018</td>\n      <td>7237</td>\n      <td>494</td>\n      <td>1337</td>\n      <td>1400</td>\n      <td>928</td>\n      <td>1236</td>\n      <td>415</td>\n    </tr>\n    <tr>\n      <td>Nov 2018</td>\n      <td>7509</td>\n      <td>502</td>\n      <td>1329</td>\n      <td>1632</td>\n      <td>1088</td>\n      <td>1252</td>\n      <td>411</td>\n    </tr>\n    <tr>\n      <td>Dec 2018</td>\n      <td>7303</td>\n      <td>441</td>\n      <td>1351</td>\n      <td>1436</td>\n      <td>945</td>\n      <td>1291</td>\n      <td>352</td>\n    </tr>\n    <tr>\n      <td>Jan 2019</td>\n      <td>7520</td>\n      <td>427</td>\n      <td>1386</td>\n      <td>1429</td>\n      <td>808</td>\n      <td>1379</td>\n      <td>411</td>\n    </tr>\n    <tr>\n      <td>Feb 2019</td>\n      <td>7048</td>\n      <td>462</td>\n      <td>1404</td>\n      <td>1258</td>\n      <td>791</td>\n      <td>1205</td>\n      <td>353</td>\n    </tr>\n    <tr>\n      <td>Mar 2019</td>\n      <td>7364</td>\n      <td>441</td>\n      <td>1355</td>\n      <td>1298</td>\n      <td>749</td>\n      <td>1378</td>\n      <td>362</td>\n    </tr>\n    <tr>\n      <td>Apr 2019</td>\n      <td>7284</td>\n      <td>479</td>\n      <td>1178</td>\n      <td>1346</td>\n      <td>740</td>\n      <td>1377</td>\n      <td>343</td>\n    </tr>\n    <tr>\n      <td>May 2019</td>\n      <td>7300</td>\n      <td>482</td>\n      <td>1268</td>\n      <td>1283</td>\n      <td>746</td>\n      <td>1358</td>\n      <td>367</td>\n    </tr>\n    <tr>\n      <td>Jun 2019</td>\n      <td>7185</td>\n      <td>486</td>\n      <td>1290</td>\n      <td>1342</td>\n      <td>813</td>\n      <td>1303</td>\n      <td>382</td>\n    </tr>\n    <tr>\n      <td>Jul 2019</td>\n      <td>7236</td>\n      <td>477</td>\n      <td>1287</td>\n      <td>1288</td>\n      <td>838</td>\n      <td>1325</td>\n      <td>381</td>\n    </tr>\n    <tr>\n      <td>Aug 2019</td>\n      <td>7166</td>\n      <td>445</td>\n      <td>1288</td>\n      <td>1289</td>\n      <td>792</td>\n      <td>1315</td>\n      <td>376</td>\n    </tr>\n    <tr>\n      <td>Sep 2019</td>\n      <td>7046</td>\n      <td>441</td>\n      <td>1260</td>\n      <td>1280</td>\n      <td>743</td>\n      <td>1216</td>\n      <td>349</td>\n    </tr>\n    <tr>\n      <td>Oct 2019</td>\n      <td>7309</td>\n      <td>403</td>\n      <td>1218</td>\n      <td>1472</td>\n      <td>877</td>\n      <td>1306</td>\n      <td>426</td>\n    </tr>\n    <tr>\n      <td>Nov 2019</td>\n      <td>6793</td>\n      <td>401</td>\n      <td>1217</td>\n      <td>1271</td>\n      <td>752</td>\n      <td>1311</td>\n      <td>348</td>\n    </tr>\n    <tr>\n      <td>Dec 2019</td>\n      <td>6552</td>\n      <td>360</td>\n      <td>1223</td>\n      <td>1192</td>\n      <td>762</td>\n      <td>1203</td>\n      <td>319</td>\n    </tr>\n    <tr>\n      <td>Jan 2020</td>\n      <td>7012</td>\n      <td>408</td>\n      <td>1265</td>\n      <td>1214</td>\n      <td>759</td>\n      <td>1294</td>\n      <td>427</td>\n    </tr>\n    <tr>\n      <td>Feb 2020</td>\n      <td>7004</td>\n      <td>422</td>\n      <td>1357</td>\n      <td>1168</td>\n      <td>715</td>\n      <td>1252</td>\n      <td>400</td>\n    </tr>\n    <tr>\n      <td>Mar 2020</td>\n      <td>6011</td>\n      <td>310</td>\n      <td>1192</td>\n      <td>1069</td>\n      <td>626</td>\n      <td>1193</td>\n      <td>336</td>\n    </tr>\n    <tr>\n      <td>Apr 2020</td>\n      <td>4996</td>\n      <td>315</td>\n      <td>982</td>\n      <td>883</td>\n      <td>521</td>\n      <td>1051</td>\n      <td>251</td>\n    </tr>\n    <tr>\n      <td>May 2020</td>\n      <td>5371</td>\n      <td>306</td>\n      <td>976</td>\n      <td>997</td>\n      <td>670</td>\n      <td>975</td>\n      <td>264</td>\n    </tr>\n    <tr>\n      <td>Jun 2020</td>\n      <td>6001</td>\n      <td>346</td>\n      <td>1077</td>\n      <td>1075</td>\n      <td>669</td>\n      <td>1089</td>\n      <td>298</td>\n    </tr>\n    <tr>\n      <td>Jul 2020</td>\n      <td>6697</td>\n      <td>430</td>\n      <td>1178</td>\n      <td>1181</td>\n      <td>773</td>\n      <td>1288</td>\n      <td>291</td>\n    </tr>\n    <tr>\n      <td>Aug 2020</td>\n      <td>6352</td>\n      <td>469</td>\n      <td>1195</td>\n      <td>1130</td>\n      <td>705</td>\n      <td>1182</td>\n      <td>284</td>\n    </tr>\n    <tr>\n      <td>Sep 2020</td>\n      <td>6494</td>\n      <td>492</td>\n      <td>1268</td>\n      <td>1142</td>\n      <td>671</td>\n      <td>1215</td>\n      <td>301</td>\n    </tr>\n    <tr>\n      <td>Oct 2020</td>\n      <td>6652</td>\n      <td>525</td>\n      <td>1252</td>\n      <td>1102</td>\n      <td>667</td>\n      <td>1358</td>\n      <td>293</td>\n    </tr>\n    <tr>\n      <td>Nov 2020</td>\n      <td>NaN</td>\n      <td>NaN</td>\n      <td>NaN</td>\n      <td>NaN</td>\n      <td>NaN</td>\n      <td>NaN</td>\n      <td>NaN</td>\n    </tr>\n    <tr>\n      <td>Dec 2020</td>\n      <td>NaN</td>\n      <td>NaN</td>\n      <td>NaN</td>\n      <td>NaN</td>\n      <td>NaN</td>\n      <td>NaN</td>\n      <td>NaN</td>\n    </tr>\n  </tbody>\n</table>\n</div>"
     },
     "metadata": {},
     "execution_count": 144
    }
   ],
   "source": [
    "industries = [total_nonfarm_sa, manufacturing_sa, prof_sa, ttu_sa, retail_tr_sa, ed_hlth_sa, fin_sa]\n",
    "ind_keys = ['Total Nonfarm', 'Manufacturing', 'Prof & Business', 'Trade, Transport, Utils', 'Retail Trade', 'Education & Health', 'Financial']\n",
    "ind = dict(zip(ind_keys, [x.stack() for x in industries]))\n",
    "df = pd.concat(ind, axis=1)\n",
    "df = df.reset_index().rename({'level_1': 'Month'}, axis=1)\n",
    "df['Month'] = df['Month'].apply(lambda x: x+' ')+df['Year'].apply(str)\n",
    "df = df.drop('Year', axis=1)\n",
    "df = df[(df['Month'].str.contains('2018'))|(df['Month'].str.contains('2019'))|(df['Month'].str.contains('2020'))]\n",
    "df = df[~df['Month'].str.contains('Nov 2020')|~df['Month'].str.contains('Dec 2020')].set_index('Month')\n",
    "df.to_json('job_openings_2018_2020_bls.json')\n",
    "df"
   ]
  },
  {
   "cell_type": "code",
   "execution_count": 46,
   "metadata": {},
   "outputs": [
    {
     "output_type": "execute_result",
     "data": {
      "text/plain": [
       "\"['Jan 2019', 'Feb 2019', 'Mar 2019', 'Apr 2019', 'May 2019', 'June 2019', 'July 2019', 'Aug 2019', 'Sept 2019', 'Oct 2019', 'Nov 2019', 'Dec 2019', 'Jan 2020', 'Feb 2020', 'Mar 2020', 'Apr 2020', 'May 2020', 'June 2020', 'July 2020', 'Aug 2020', 'Sept 2020', 'Oct 2020', 'Nov 2020']\""
      ]
     },
     "metadata": {},
     "execution_count": 46
    }
   ],
   "source": [
    "# in the thousands\n",
    "emp = pd.read_html('emp_by_ind.html')[0]\n",
    "emp = emp[(emp['Month'].str.contains('2018'))|(emp['Month'].str.contains('2019'))|(emp['Month'].str.contains('2020'))].set_index('Month').astype('int')\n",
    "emp = emp[~emp.index.str.contains('2018')]\n",
    "# str(emp.index.tolist())\n",
    "emp"
   ]
  },
  {
   "cell_type": "code",
   "execution_count": 40,
   "metadata": {},
   "outputs": [
    {
     "output_type": "execute_result",
     "data": {
      "text/plain": [
       "<matplotlib.axes._subplots.AxesSubplot at 0x28954703a48>"
      ]
     },
     "metadata": {},
     "execution_count": 40
    },
    {
     "output_type": "display_data",
     "data": {
      "text/plain": "<Figure size 432x288 with 1 Axes>",
      "image/svg+xml": "<?xml version=\"1.0\" encoding=\"utf-8\" standalone=\"no\"?>\r\n<!DOCTYPE svg PUBLIC \"-//W3C//DTD SVG 1.1//EN\"\r\n  \"http://www.w3.org/Graphics/SVG/1.1/DTD/svg11.dtd\">\r\n<!-- Created with matplotlib (https://matplotlib.org/) -->\r\n<svg height=\"262.19625pt\" version=\"1.1\" viewBox=\"0 0 394.375 262.19625\" width=\"394.375pt\" xmlns=\"http://www.w3.org/2000/svg\" xmlns:xlink=\"http://www.w3.org/1999/xlink\">\r\n <defs>\r\n  <style type=\"text/css\">\r\n*{stroke-linecap:butt;stroke-linejoin:round;}\r\n  </style>\r\n </defs>\r\n <g id=\"figure_1\">\r\n  <g id=\"patch_1\">\r\n   <path d=\"M 0 262.19625 \r\nL 394.375 262.19625 \r\nL 394.375 0 \r\nL 0 0 \r\nz\r\n\" style=\"fill:none;\"/>\r\n  </g>\r\n  <g id=\"axes_1\">\r\n   <g id=\"patch_2\">\r\n    <path d=\"M 52.375 224.64 \r\nL 387.175 224.64 \r\nL 387.175 7.2 \r\nL 52.375 7.2 \r\nz\r\n\" style=\"fill:#ffffff;\"/>\r\n   </g>\r\n   <g id=\"matplotlib.axis_1\">\r\n    <g id=\"xtick_1\">\r\n     <g id=\"line2d_1\">\r\n      <defs>\r\n       <path d=\"M 0 0 \r\nL 0 3.5 \r\n\" id=\"m83aef9faf2\" style=\"stroke:#000000;stroke-width:0.8;\"/>\r\n      </defs>\r\n      <g>\r\n       <use style=\"stroke:#000000;stroke-width:0.8;\" x=\"52.375\" xlink:href=\"#m83aef9faf2\" y=\"224.64\"/>\r\n      </g>\r\n     </g>\r\n     <g id=\"text_1\">\r\n      <!-- Jan 2019 -->\r\n      <defs>\r\n       <path d=\"M 9.8125 72.90625 \r\nL 19.671875 72.90625 \r\nL 19.671875 5.078125 \r\nQ 19.671875 -8.109375 14.671875 -14.0625 \r\nQ 9.671875 -20.015625 -1.421875 -20.015625 \r\nL -5.171875 -20.015625 \r\nL -5.171875 -11.71875 \r\nL -2.09375 -11.71875 \r\nQ 4.4375 -11.71875 7.125 -8.046875 \r\nQ 9.8125 -4.390625 9.8125 5.078125 \r\nz\r\n\" id=\"DejaVuSans-74\"/>\r\n       <path d=\"M 34.28125 27.484375 \r\nQ 23.390625 27.484375 19.1875 25 \r\nQ 14.984375 22.515625 14.984375 16.5 \r\nQ 14.984375 11.71875 18.140625 8.90625 \r\nQ 21.296875 6.109375 26.703125 6.109375 \r\nQ 34.1875 6.109375 38.703125 11.40625 \r\nQ 43.21875 16.703125 43.21875 25.484375 \r\nL 43.21875 27.484375 \r\nz\r\nM 52.203125 31.203125 \r\nL 52.203125 0 \r\nL 43.21875 0 \r\nL 43.21875 8.296875 \r\nQ 40.140625 3.328125 35.546875 0.953125 \r\nQ 30.953125 -1.421875 24.3125 -1.421875 \r\nQ 15.921875 -1.421875 10.953125 3.296875 \r\nQ 6 8.015625 6 15.921875 \r\nQ 6 25.140625 12.171875 29.828125 \r\nQ 18.359375 34.515625 30.609375 34.515625 \r\nL 43.21875 34.515625 \r\nL 43.21875 35.40625 \r\nQ 43.21875 41.609375 39.140625 45 \r\nQ 35.0625 48.390625 27.6875 48.390625 \r\nQ 23 48.390625 18.546875 47.265625 \r\nQ 14.109375 46.140625 10.015625 43.890625 \r\nL 10.015625 52.203125 \r\nQ 14.9375 54.109375 19.578125 55.046875 \r\nQ 24.21875 56 28.609375 56 \r\nQ 40.484375 56 46.34375 49.84375 \r\nQ 52.203125 43.703125 52.203125 31.203125 \r\nz\r\n\" id=\"DejaVuSans-97\"/>\r\n       <path d=\"M 54.890625 33.015625 \r\nL 54.890625 0 \r\nL 45.90625 0 \r\nL 45.90625 32.71875 \r\nQ 45.90625 40.484375 42.875 44.328125 \r\nQ 39.84375 48.1875 33.796875 48.1875 \r\nQ 26.515625 48.1875 22.3125 43.546875 \r\nQ 18.109375 38.921875 18.109375 30.90625 \r\nL 18.109375 0 \r\nL 9.078125 0 \r\nL 9.078125 54.6875 \r\nL 18.109375 54.6875 \r\nL 18.109375 46.1875 \r\nQ 21.34375 51.125 25.703125 53.5625 \r\nQ 30.078125 56 35.796875 56 \r\nQ 45.21875 56 50.046875 50.171875 \r\nQ 54.890625 44.34375 54.890625 33.015625 \r\nz\r\n\" id=\"DejaVuSans-110\"/>\r\n       <path id=\"DejaVuSans-32\"/>\r\n       <path d=\"M 19.1875 8.296875 \r\nL 53.609375 8.296875 \r\nL 53.609375 0 \r\nL 7.328125 0 \r\nL 7.328125 8.296875 \r\nQ 12.9375 14.109375 22.625 23.890625 \r\nQ 32.328125 33.6875 34.8125 36.53125 \r\nQ 39.546875 41.84375 41.421875 45.53125 \r\nQ 43.3125 49.21875 43.3125 52.78125 \r\nQ 43.3125 58.59375 39.234375 62.25 \r\nQ 35.15625 65.921875 28.609375 65.921875 \r\nQ 23.96875 65.921875 18.8125 64.3125 \r\nQ 13.671875 62.703125 7.8125 59.421875 \r\nL 7.8125 69.390625 \r\nQ 13.765625 71.78125 18.9375 73 \r\nQ 24.125 74.21875 28.421875 74.21875 \r\nQ 39.75 74.21875 46.484375 68.546875 \r\nQ 53.21875 62.890625 53.21875 53.421875 \r\nQ 53.21875 48.921875 51.53125 44.890625 \r\nQ 49.859375 40.875 45.40625 35.40625 \r\nQ 44.1875 33.984375 37.640625 27.21875 \r\nQ 31.109375 20.453125 19.1875 8.296875 \r\nz\r\n\" id=\"DejaVuSans-50\"/>\r\n       <path d=\"M 31.78125 66.40625 \r\nQ 24.171875 66.40625 20.328125 58.90625 \r\nQ 16.5 51.421875 16.5 36.375 \r\nQ 16.5 21.390625 20.328125 13.890625 \r\nQ 24.171875 6.390625 31.78125 6.390625 \r\nQ 39.453125 6.390625 43.28125 13.890625 \r\nQ 47.125 21.390625 47.125 36.375 \r\nQ 47.125 51.421875 43.28125 58.90625 \r\nQ 39.453125 66.40625 31.78125 66.40625 \r\nz\r\nM 31.78125 74.21875 \r\nQ 44.046875 74.21875 50.515625 64.515625 \r\nQ 56.984375 54.828125 56.984375 36.375 \r\nQ 56.984375 17.96875 50.515625 8.265625 \r\nQ 44.046875 -1.421875 31.78125 -1.421875 \r\nQ 19.53125 -1.421875 13.0625 8.265625 \r\nQ 6.59375 17.96875 6.59375 36.375 \r\nQ 6.59375 54.828125 13.0625 64.515625 \r\nQ 19.53125 74.21875 31.78125 74.21875 \r\nz\r\n\" id=\"DejaVuSans-48\"/>\r\n       <path d=\"M 12.40625 8.296875 \r\nL 28.515625 8.296875 \r\nL 28.515625 63.921875 \r\nL 10.984375 60.40625 \r\nL 10.984375 69.390625 \r\nL 28.421875 72.90625 \r\nL 38.28125 72.90625 \r\nL 38.28125 8.296875 \r\nL 54.390625 8.296875 \r\nL 54.390625 0 \r\nL 12.40625 0 \r\nz\r\n\" id=\"DejaVuSans-49\"/>\r\n       <path d=\"M 10.984375 1.515625 \r\nL 10.984375 10.5 \r\nQ 14.703125 8.734375 18.5 7.8125 \r\nQ 22.3125 6.890625 25.984375 6.890625 \r\nQ 35.75 6.890625 40.890625 13.453125 \r\nQ 46.046875 20.015625 46.78125 33.40625 \r\nQ 43.953125 29.203125 39.59375 26.953125 \r\nQ 35.25 24.703125 29.984375 24.703125 \r\nQ 19.046875 24.703125 12.671875 31.3125 \r\nQ 6.296875 37.9375 6.296875 49.421875 \r\nQ 6.296875 60.640625 12.9375 67.421875 \r\nQ 19.578125 74.21875 30.609375 74.21875 \r\nQ 43.265625 74.21875 49.921875 64.515625 \r\nQ 56.59375 54.828125 56.59375 36.375 \r\nQ 56.59375 19.140625 48.40625 8.859375 \r\nQ 40.234375 -1.421875 26.421875 -1.421875 \r\nQ 22.703125 -1.421875 18.890625 -0.6875 \r\nQ 15.09375 0.046875 10.984375 1.515625 \r\nz\r\nM 30.609375 32.421875 \r\nQ 37.25 32.421875 41.125 36.953125 \r\nQ 45.015625 41.5 45.015625 49.421875 \r\nQ 45.015625 57.28125 41.125 61.84375 \r\nQ 37.25 66.40625 30.609375 66.40625 \r\nQ 23.96875 66.40625 20.09375 61.84375 \r\nQ 16.21875 57.28125 16.21875 49.421875 \r\nQ 16.21875 41.5 20.09375 36.953125 \r\nQ 23.96875 32.421875 30.609375 32.421875 \r\nz\r\n\" id=\"DejaVuSans-57\"/>\r\n      </defs>\r\n      <g transform=\"translate(30.353125 239.238437)scale(0.1 -0.1)\">\r\n       <use xlink:href=\"#DejaVuSans-74\"/>\r\n       <use x=\"29.492188\" xlink:href=\"#DejaVuSans-97\"/>\r\n       <use x=\"90.771484\" xlink:href=\"#DejaVuSans-110\"/>\r\n       <use x=\"154.150391\" xlink:href=\"#DejaVuSans-32\"/>\r\n       <use x=\"185.9375\" xlink:href=\"#DejaVuSans-50\"/>\r\n       <use x=\"249.560547\" xlink:href=\"#DejaVuSans-48\"/>\r\n       <use x=\"313.183594\" xlink:href=\"#DejaVuSans-49\"/>\r\n       <use x=\"376.806641\" xlink:href=\"#DejaVuSans-57\"/>\r\n      </g>\r\n     </g>\r\n    </g>\r\n    <g id=\"xtick_2\">\r\n     <g id=\"line2d_2\">\r\n      <g>\r\n       <use style=\"stroke:#000000;stroke-width:0.8;\" x=\"90.420455\" xlink:href=\"#m83aef9faf2\" y=\"224.64\"/>\r\n      </g>\r\n     </g>\r\n    </g>\r\n    <g id=\"xtick_3\">\r\n     <g id=\"line2d_3\">\r\n      <g>\r\n       <use style=\"stroke:#000000;stroke-width:0.8;\" x=\"128.465909\" xlink:href=\"#m83aef9faf2\" y=\"224.64\"/>\r\n      </g>\r\n     </g>\r\n     <g id=\"text_2\">\r\n      <!-- June 2019 -->\r\n      <defs>\r\n       <path d=\"M 8.5 21.578125 \r\nL 8.5 54.6875 \r\nL 17.484375 54.6875 \r\nL 17.484375 21.921875 \r\nQ 17.484375 14.15625 20.5 10.265625 \r\nQ 23.53125 6.390625 29.59375 6.390625 \r\nQ 36.859375 6.390625 41.078125 11.03125 \r\nQ 45.3125 15.671875 45.3125 23.6875 \r\nL 45.3125 54.6875 \r\nL 54.296875 54.6875 \r\nL 54.296875 0 \r\nL 45.3125 0 \r\nL 45.3125 8.40625 \r\nQ 42.046875 3.421875 37.71875 1 \r\nQ 33.40625 -1.421875 27.6875 -1.421875 \r\nQ 18.265625 -1.421875 13.375 4.4375 \r\nQ 8.5 10.296875 8.5 21.578125 \r\nz\r\nM 31.109375 56 \r\nz\r\n\" id=\"DejaVuSans-117\"/>\r\n       <path d=\"M 56.203125 29.59375 \r\nL 56.203125 25.203125 \r\nL 14.890625 25.203125 \r\nQ 15.484375 15.921875 20.484375 11.0625 \r\nQ 25.484375 6.203125 34.421875 6.203125 \r\nQ 39.59375 6.203125 44.453125 7.46875 \r\nQ 49.3125 8.734375 54.109375 11.28125 \r\nL 54.109375 2.78125 \r\nQ 49.265625 0.734375 44.1875 -0.34375 \r\nQ 39.109375 -1.421875 33.890625 -1.421875 \r\nQ 20.796875 -1.421875 13.15625 6.1875 \r\nQ 5.515625 13.8125 5.515625 26.8125 \r\nQ 5.515625 40.234375 12.765625 48.109375 \r\nQ 20.015625 56 32.328125 56 \r\nQ 43.359375 56 49.78125 48.890625 \r\nQ 56.203125 41.796875 56.203125 29.59375 \r\nz\r\nM 47.21875 32.234375 \r\nQ 47.125 39.59375 43.09375 43.984375 \r\nQ 39.0625 48.390625 32.421875 48.390625 \r\nQ 24.90625 48.390625 20.390625 44.140625 \r\nQ 15.875 39.890625 15.1875 32.171875 \r\nz\r\n\" id=\"DejaVuSans-101\"/>\r\n      </defs>\r\n      <g transform=\"translate(103.262784 239.238437)scale(0.1 -0.1)\">\r\n       <use xlink:href=\"#DejaVuSans-74\"/>\r\n       <use x=\"29.492188\" xlink:href=\"#DejaVuSans-117\"/>\r\n       <use x=\"92.871094\" xlink:href=\"#DejaVuSans-110\"/>\r\n       <use x=\"156.25\" xlink:href=\"#DejaVuSans-101\"/>\r\n       <use x=\"217.773438\" xlink:href=\"#DejaVuSans-32\"/>\r\n       <use x=\"249.560547\" xlink:href=\"#DejaVuSans-50\"/>\r\n       <use x=\"313.183594\" xlink:href=\"#DejaVuSans-48\"/>\r\n       <use x=\"376.806641\" xlink:href=\"#DejaVuSans-49\"/>\r\n       <use x=\"440.429688\" xlink:href=\"#DejaVuSans-57\"/>\r\n      </g>\r\n     </g>\r\n    </g>\r\n    <g id=\"xtick_4\">\r\n     <g id=\"line2d_4\">\r\n      <g>\r\n       <use style=\"stroke:#000000;stroke-width:0.8;\" x=\"166.511364\" xlink:href=\"#m83aef9faf2\" y=\"224.64\"/>\r\n      </g>\r\n     </g>\r\n    </g>\r\n    <g id=\"xtick_5\">\r\n     <g id=\"line2d_5\">\r\n      <g>\r\n       <use style=\"stroke:#000000;stroke-width:0.8;\" x=\"204.556818\" xlink:href=\"#m83aef9faf2\" y=\"224.64\"/>\r\n      </g>\r\n     </g>\r\n     <g id=\"text_3\">\r\n      <!-- Nov 2019 -->\r\n      <defs>\r\n       <path d=\"M 9.8125 72.90625 \r\nL 23.09375 72.90625 \r\nL 55.421875 11.921875 \r\nL 55.421875 72.90625 \r\nL 64.984375 72.90625 \r\nL 64.984375 0 \r\nL 51.703125 0 \r\nL 19.390625 60.984375 \r\nL 19.390625 0 \r\nL 9.8125 0 \r\nz\r\n\" id=\"DejaVuSans-78\"/>\r\n       <path d=\"M 30.609375 48.390625 \r\nQ 23.390625 48.390625 19.1875 42.75 \r\nQ 14.984375 37.109375 14.984375 27.296875 \r\nQ 14.984375 17.484375 19.15625 11.84375 \r\nQ 23.34375 6.203125 30.609375 6.203125 \r\nQ 37.796875 6.203125 41.984375 11.859375 \r\nQ 46.1875 17.53125 46.1875 27.296875 \r\nQ 46.1875 37.015625 41.984375 42.703125 \r\nQ 37.796875 48.390625 30.609375 48.390625 \r\nz\r\nM 30.609375 56 \r\nQ 42.328125 56 49.015625 48.375 \r\nQ 55.71875 40.765625 55.71875 27.296875 \r\nQ 55.71875 13.875 49.015625 6.21875 \r\nQ 42.328125 -1.421875 30.609375 -1.421875 \r\nQ 18.84375 -1.421875 12.171875 6.21875 \r\nQ 5.515625 13.875 5.515625 27.296875 \r\nQ 5.515625 40.765625 12.171875 48.375 \r\nQ 18.84375 56 30.609375 56 \r\nz\r\n\" id=\"DejaVuSans-111\"/>\r\n       <path d=\"M 2.984375 54.6875 \r\nL 12.5 54.6875 \r\nL 29.59375 8.796875 \r\nL 46.6875 54.6875 \r\nL 56.203125 54.6875 \r\nL 35.6875 0 \r\nL 23.484375 0 \r\nz\r\n\" id=\"DejaVuSans-118\"/>\r\n      </defs>\r\n      <g transform=\"translate(180.483381 239.238437)scale(0.1 -0.1)\">\r\n       <use xlink:href=\"#DejaVuSans-78\"/>\r\n       <use x=\"74.804688\" xlink:href=\"#DejaVuSans-111\"/>\r\n       <use x=\"135.986328\" xlink:href=\"#DejaVuSans-118\"/>\r\n       <use x=\"195.166016\" xlink:href=\"#DejaVuSans-32\"/>\r\n       <use x=\"226.953125\" xlink:href=\"#DejaVuSans-50\"/>\r\n       <use x=\"290.576172\" xlink:href=\"#DejaVuSans-48\"/>\r\n       <use x=\"354.199219\" xlink:href=\"#DejaVuSans-49\"/>\r\n       <use x=\"417.822266\" xlink:href=\"#DejaVuSans-57\"/>\r\n      </g>\r\n     </g>\r\n    </g>\r\n    <g id=\"xtick_6\">\r\n     <g id=\"line2d_6\">\r\n      <g>\r\n       <use style=\"stroke:#000000;stroke-width:0.8;\" x=\"242.602273\" xlink:href=\"#m83aef9faf2\" y=\"224.64\"/>\r\n      </g>\r\n     </g>\r\n    </g>\r\n    <g id=\"xtick_7\">\r\n     <g id=\"line2d_7\">\r\n      <g>\r\n       <use style=\"stroke:#000000;stroke-width:0.8;\" x=\"280.647727\" xlink:href=\"#m83aef9faf2\" y=\"224.64\"/>\r\n      </g>\r\n     </g>\r\n     <g id=\"text_4\">\r\n      <!-- Apr 2020 -->\r\n      <defs>\r\n       <path d=\"M 34.1875 63.1875 \r\nL 20.796875 26.90625 \r\nL 47.609375 26.90625 \r\nz\r\nM 28.609375 72.90625 \r\nL 39.796875 72.90625 \r\nL 67.578125 0 \r\nL 57.328125 0 \r\nL 50.6875 18.703125 \r\nL 17.828125 18.703125 \r\nL 11.1875 0 \r\nL 0.78125 0 \r\nz\r\n\" id=\"DejaVuSans-65\"/>\r\n       <path d=\"M 18.109375 8.203125 \r\nL 18.109375 -20.796875 \r\nL 9.078125 -20.796875 \r\nL 9.078125 54.6875 \r\nL 18.109375 54.6875 \r\nL 18.109375 46.390625 \r\nQ 20.953125 51.265625 25.265625 53.625 \r\nQ 29.59375 56 35.59375 56 \r\nQ 45.5625 56 51.78125 48.09375 \r\nQ 58.015625 40.1875 58.015625 27.296875 \r\nQ 58.015625 14.40625 51.78125 6.484375 \r\nQ 45.5625 -1.421875 35.59375 -1.421875 \r\nQ 29.59375 -1.421875 25.265625 0.953125 \r\nQ 20.953125 3.328125 18.109375 8.203125 \r\nz\r\nM 48.6875 27.296875 \r\nQ 48.6875 37.203125 44.609375 42.84375 \r\nQ 40.53125 48.484375 33.40625 48.484375 \r\nQ 26.265625 48.484375 22.1875 42.84375 \r\nQ 18.109375 37.203125 18.109375 27.296875 \r\nQ 18.109375 17.390625 22.1875 11.75 \r\nQ 26.265625 6.109375 33.40625 6.109375 \r\nQ 40.53125 6.109375 44.609375 11.75 \r\nQ 48.6875 17.390625 48.6875 27.296875 \r\nz\r\n\" id=\"DejaVuSans-112\"/>\r\n       <path d=\"M 41.109375 46.296875 \r\nQ 39.59375 47.171875 37.8125 47.578125 \r\nQ 36.03125 48 33.890625 48 \r\nQ 26.265625 48 22.1875 43.046875 \r\nQ 18.109375 38.09375 18.109375 28.8125 \r\nL 18.109375 0 \r\nL 9.078125 0 \r\nL 9.078125 54.6875 \r\nL 18.109375 54.6875 \r\nL 18.109375 46.1875 \r\nQ 20.953125 51.171875 25.484375 53.578125 \r\nQ 30.03125 56 36.53125 56 \r\nQ 37.453125 56 38.578125 55.875 \r\nQ 39.703125 55.765625 41.0625 55.515625 \r\nz\r\n\" id=\"DejaVuSans-114\"/>\r\n      </defs>\r\n      <g transform=\"translate(257.683665 239.238437)scale(0.1 -0.1)\">\r\n       <use xlink:href=\"#DejaVuSans-65\"/>\r\n       <use x=\"68.408203\" xlink:href=\"#DejaVuSans-112\"/>\r\n       <use x=\"131.884766\" xlink:href=\"#DejaVuSans-114\"/>\r\n       <use x=\"172.998047\" xlink:href=\"#DejaVuSans-32\"/>\r\n       <use x=\"204.785156\" xlink:href=\"#DejaVuSans-50\"/>\r\n       <use x=\"268.408203\" xlink:href=\"#DejaVuSans-48\"/>\r\n       <use x=\"332.03125\" xlink:href=\"#DejaVuSans-50\"/>\r\n       <use x=\"395.654297\" xlink:href=\"#DejaVuSans-48\"/>\r\n      </g>\r\n     </g>\r\n    </g>\r\n    <g id=\"xtick_8\">\r\n     <g id=\"line2d_8\">\r\n      <g>\r\n       <use style=\"stroke:#000000;stroke-width:0.8;\" x=\"318.693182\" xlink:href=\"#m83aef9faf2\" y=\"224.64\"/>\r\n      </g>\r\n     </g>\r\n    </g>\r\n    <g id=\"xtick_9\">\r\n     <g id=\"line2d_9\">\r\n      <g>\r\n       <use style=\"stroke:#000000;stroke-width:0.8;\" x=\"356.738636\" xlink:href=\"#m83aef9faf2\" y=\"224.64\"/>\r\n      </g>\r\n     </g>\r\n     <g id=\"text_5\">\r\n      <!-- Sept 2020 -->\r\n      <defs>\r\n       <path d=\"M 53.515625 70.515625 \r\nL 53.515625 60.890625 \r\nQ 47.90625 63.578125 42.921875 64.890625 \r\nQ 37.9375 66.21875 33.296875 66.21875 \r\nQ 25.25 66.21875 20.875 63.09375 \r\nQ 16.5 59.96875 16.5 54.203125 \r\nQ 16.5 49.359375 19.40625 46.890625 \r\nQ 22.3125 44.4375 30.421875 42.921875 \r\nL 36.375 41.703125 \r\nQ 47.40625 39.59375 52.65625 34.296875 \r\nQ 57.90625 29 57.90625 20.125 \r\nQ 57.90625 9.515625 50.796875 4.046875 \r\nQ 43.703125 -1.421875 29.984375 -1.421875 \r\nQ 24.8125 -1.421875 18.96875 -0.25 \r\nQ 13.140625 0.921875 6.890625 3.21875 \r\nL 6.890625 13.375 \r\nQ 12.890625 10.015625 18.65625 8.296875 \r\nQ 24.421875 6.59375 29.984375 6.59375 \r\nQ 38.421875 6.59375 43.015625 9.90625 \r\nQ 47.609375 13.234375 47.609375 19.390625 \r\nQ 47.609375 24.75 44.3125 27.78125 \r\nQ 41.015625 30.8125 33.5 32.328125 \r\nL 27.484375 33.5 \r\nQ 16.453125 35.6875 11.515625 40.375 \r\nQ 6.59375 45.0625 6.59375 53.421875 \r\nQ 6.59375 63.09375 13.40625 68.65625 \r\nQ 20.21875 74.21875 32.171875 74.21875 \r\nQ 37.3125 74.21875 42.625 73.28125 \r\nQ 47.953125 72.359375 53.515625 70.515625 \r\nz\r\n\" id=\"DejaVuSans-83\"/>\r\n       <path d=\"M 18.3125 70.21875 \r\nL 18.3125 54.6875 \r\nL 36.8125 54.6875 \r\nL 36.8125 47.703125 \r\nL 18.3125 47.703125 \r\nL 18.3125 18.015625 \r\nQ 18.3125 11.328125 20.140625 9.421875 \r\nQ 21.96875 7.515625 27.59375 7.515625 \r\nL 36.8125 7.515625 \r\nL 36.8125 0 \r\nL 27.59375 0 \r\nQ 17.1875 0 13.234375 3.875 \r\nQ 9.28125 7.765625 9.28125 18.015625 \r\nL 9.28125 47.703125 \r\nL 2.6875 47.703125 \r\nL 2.6875 54.6875 \r\nL 9.28125 54.6875 \r\nL 9.28125 70.21875 \r\nz\r\n\" id=\"DejaVuSans-116\"/>\r\n      </defs>\r\n      <g transform=\"translate(331.039418 239.238437)scale(0.1 -0.1)\">\r\n       <use xlink:href=\"#DejaVuSans-83\"/>\r\n       <use x=\"63.476562\" xlink:href=\"#DejaVuSans-101\"/>\r\n       <use x=\"125\" xlink:href=\"#DejaVuSans-112\"/>\r\n       <use x=\"188.476562\" xlink:href=\"#DejaVuSans-116\"/>\r\n       <use x=\"227.685547\" xlink:href=\"#DejaVuSans-32\"/>\r\n       <use x=\"259.472656\" xlink:href=\"#DejaVuSans-50\"/>\r\n       <use x=\"323.095703\" xlink:href=\"#DejaVuSans-48\"/>\r\n       <use x=\"386.71875\" xlink:href=\"#DejaVuSans-50\"/>\r\n       <use x=\"450.341797\" xlink:href=\"#DejaVuSans-48\"/>\r\n      </g>\r\n     </g>\r\n    </g>\r\n    <g id=\"text_6\">\r\n     <!-- Month -->\r\n     <defs>\r\n      <path d=\"M 9.8125 72.90625 \r\nL 24.515625 72.90625 \r\nL 43.109375 23.296875 \r\nL 61.8125 72.90625 \r\nL 76.515625 72.90625 \r\nL 76.515625 0 \r\nL 66.890625 0 \r\nL 66.890625 64.015625 \r\nL 48.09375 14.015625 \r\nL 38.1875 14.015625 \r\nL 19.390625 64.015625 \r\nL 19.390625 0 \r\nL 9.8125 0 \r\nz\r\n\" id=\"DejaVuSans-77\"/>\r\n      <path d=\"M 54.890625 33.015625 \r\nL 54.890625 0 \r\nL 45.90625 0 \r\nL 45.90625 32.71875 \r\nQ 45.90625 40.484375 42.875 44.328125 \r\nQ 39.84375 48.1875 33.796875 48.1875 \r\nQ 26.515625 48.1875 22.3125 43.546875 \r\nQ 18.109375 38.921875 18.109375 30.90625 \r\nL 18.109375 0 \r\nL 9.078125 0 \r\nL 9.078125 75.984375 \r\nL 18.109375 75.984375 \r\nL 18.109375 46.1875 \r\nQ 21.34375 51.125 25.703125 53.5625 \r\nQ 30.078125 56 35.796875 56 \r\nQ 45.21875 56 50.046875 50.171875 \r\nQ 54.890625 44.34375 54.890625 33.015625 \r\nz\r\n\" id=\"DejaVuSans-104\"/>\r\n     </defs>\r\n     <g transform=\"translate(204.103906 252.916562)scale(0.1 -0.1)\">\r\n      <use xlink:href=\"#DejaVuSans-77\"/>\r\n      <use x=\"86.279297\" xlink:href=\"#DejaVuSans-111\"/>\r\n      <use x=\"147.460938\" xlink:href=\"#DejaVuSans-110\"/>\r\n      <use x=\"210.839844\" xlink:href=\"#DejaVuSans-116\"/>\r\n      <use x=\"250.048828\" xlink:href=\"#DejaVuSans-104\"/>\r\n     </g>\r\n    </g>\r\n   </g>\r\n   <g id=\"matplotlib.axis_2\">\r\n    <g id=\"ytick_1\">\r\n     <g id=\"line2d_10\">\r\n      <defs>\r\n       <path d=\"M 0 0 \r\nL -3.5 0 \r\n\" id=\"ma8111e08b7\" style=\"stroke:#000000;stroke-width:0.8;\"/>\r\n      </defs>\r\n      <g>\r\n       <use style=\"stroke:#000000;stroke-width:0.8;\" x=\"52.375\" xlink:href=\"#ma8111e08b7\" y=\"217.459199\"/>\r\n      </g>\r\n     </g>\r\n     <g id=\"text_7\">\r\n      <!-- 130000 -->\r\n      <defs>\r\n       <path d=\"M 40.578125 39.3125 \r\nQ 47.65625 37.796875 51.625 33 \r\nQ 55.609375 28.21875 55.609375 21.1875 \r\nQ 55.609375 10.40625 48.1875 4.484375 \r\nQ 40.765625 -1.421875 27.09375 -1.421875 \r\nQ 22.515625 -1.421875 17.65625 -0.515625 \r\nQ 12.796875 0.390625 7.625 2.203125 \r\nL 7.625 11.71875 \r\nQ 11.71875 9.328125 16.59375 8.109375 \r\nQ 21.484375 6.890625 26.8125 6.890625 \r\nQ 36.078125 6.890625 40.9375 10.546875 \r\nQ 45.796875 14.203125 45.796875 21.1875 \r\nQ 45.796875 27.640625 41.28125 31.265625 \r\nQ 36.765625 34.90625 28.71875 34.90625 \r\nL 20.21875 34.90625 \r\nL 20.21875 43.015625 \r\nL 29.109375 43.015625 \r\nQ 36.375 43.015625 40.234375 45.921875 \r\nQ 44.09375 48.828125 44.09375 54.296875 \r\nQ 44.09375 59.90625 40.109375 62.90625 \r\nQ 36.140625 65.921875 28.71875 65.921875 \r\nQ 24.65625 65.921875 20.015625 65.03125 \r\nQ 15.375 64.15625 9.8125 62.3125 \r\nL 9.8125 71.09375 \r\nQ 15.4375 72.65625 20.34375 73.4375 \r\nQ 25.25 74.21875 29.59375 74.21875 \r\nQ 40.828125 74.21875 47.359375 69.109375 \r\nQ 53.90625 64.015625 53.90625 55.328125 \r\nQ 53.90625 49.265625 50.4375 45.09375 \r\nQ 46.96875 40.921875 40.578125 39.3125 \r\nz\r\n\" id=\"DejaVuSans-51\"/>\r\n      </defs>\r\n      <g transform=\"translate(7.2 221.258418)scale(0.1 -0.1)\">\r\n       <use xlink:href=\"#DejaVuSans-49\"/>\r\n       <use x=\"63.623047\" xlink:href=\"#DejaVuSans-51\"/>\r\n       <use x=\"127.246094\" xlink:href=\"#DejaVuSans-48\"/>\r\n       <use x=\"190.869141\" xlink:href=\"#DejaVuSans-48\"/>\r\n       <use x=\"254.492188\" xlink:href=\"#DejaVuSans-48\"/>\r\n       <use x=\"318.115234\" xlink:href=\"#DejaVuSans-48\"/>\r\n      </g>\r\n     </g>\r\n    </g>\r\n    <g id=\"ytick_2\">\r\n     <g id=\"line2d_11\">\r\n      <g>\r\n       <use style=\"stroke:#000000;stroke-width:0.8;\" x=\"52.375\" xlink:href=\"#ma8111e08b7\" y=\"172.857952\"/>\r\n      </g>\r\n     </g>\r\n     <g id=\"text_8\">\r\n      <!-- 135000 -->\r\n      <defs>\r\n       <path d=\"M 10.796875 72.90625 \r\nL 49.515625 72.90625 \r\nL 49.515625 64.59375 \r\nL 19.828125 64.59375 \r\nL 19.828125 46.734375 \r\nQ 21.96875 47.46875 24.109375 47.828125 \r\nQ 26.265625 48.1875 28.421875 48.1875 \r\nQ 40.625 48.1875 47.75 41.5 \r\nQ 54.890625 34.8125 54.890625 23.390625 \r\nQ 54.890625 11.625 47.5625 5.09375 \r\nQ 40.234375 -1.421875 26.90625 -1.421875 \r\nQ 22.3125 -1.421875 17.546875 -0.640625 \r\nQ 12.796875 0.140625 7.71875 1.703125 \r\nL 7.71875 11.625 \r\nQ 12.109375 9.234375 16.796875 8.0625 \r\nQ 21.484375 6.890625 26.703125 6.890625 \r\nQ 35.15625 6.890625 40.078125 11.328125 \r\nQ 45.015625 15.765625 45.015625 23.390625 \r\nQ 45.015625 31 40.078125 35.4375 \r\nQ 35.15625 39.890625 26.703125 39.890625 \r\nQ 22.75 39.890625 18.8125 39.015625 \r\nQ 14.890625 38.140625 10.796875 36.28125 \r\nz\r\n\" id=\"DejaVuSans-53\"/>\r\n      </defs>\r\n      <g transform=\"translate(7.2 176.657171)scale(0.1 -0.1)\">\r\n       <use xlink:href=\"#DejaVuSans-49\"/>\r\n       <use x=\"63.623047\" xlink:href=\"#DejaVuSans-51\"/>\r\n       <use x=\"127.246094\" xlink:href=\"#DejaVuSans-53\"/>\r\n       <use x=\"190.869141\" xlink:href=\"#DejaVuSans-48\"/>\r\n       <use x=\"254.492188\" xlink:href=\"#DejaVuSans-48\"/>\r\n       <use x=\"318.115234\" xlink:href=\"#DejaVuSans-48\"/>\r\n      </g>\r\n     </g>\r\n    </g>\r\n    <g id=\"ytick_3\">\r\n     <g id=\"line2d_12\">\r\n      <g>\r\n       <use style=\"stroke:#000000;stroke-width:0.8;\" x=\"52.375\" xlink:href=\"#ma8111e08b7\" y=\"128.256705\"/>\r\n      </g>\r\n     </g>\r\n     <g id=\"text_9\">\r\n      <!-- 140000 -->\r\n      <defs>\r\n       <path d=\"M 37.796875 64.3125 \r\nL 12.890625 25.390625 \r\nL 37.796875 25.390625 \r\nz\r\nM 35.203125 72.90625 \r\nL 47.609375 72.90625 \r\nL 47.609375 25.390625 \r\nL 58.015625 25.390625 \r\nL 58.015625 17.1875 \r\nL 47.609375 17.1875 \r\nL 47.609375 0 \r\nL 37.796875 0 \r\nL 37.796875 17.1875 \r\nL 4.890625 17.1875 \r\nL 4.890625 26.703125 \r\nz\r\n\" id=\"DejaVuSans-52\"/>\r\n      </defs>\r\n      <g transform=\"translate(7.2 132.055924)scale(0.1 -0.1)\">\r\n       <use xlink:href=\"#DejaVuSans-49\"/>\r\n       <use x=\"63.623047\" xlink:href=\"#DejaVuSans-52\"/>\r\n       <use x=\"127.246094\" xlink:href=\"#DejaVuSans-48\"/>\r\n       <use x=\"190.869141\" xlink:href=\"#DejaVuSans-48\"/>\r\n       <use x=\"254.492188\" xlink:href=\"#DejaVuSans-48\"/>\r\n       <use x=\"318.115234\" xlink:href=\"#DejaVuSans-48\"/>\r\n      </g>\r\n     </g>\r\n    </g>\r\n    <g id=\"ytick_4\">\r\n     <g id=\"line2d_13\">\r\n      <g>\r\n       <use style=\"stroke:#000000;stroke-width:0.8;\" x=\"52.375\" xlink:href=\"#ma8111e08b7\" y=\"83.655458\"/>\r\n      </g>\r\n     </g>\r\n     <g id=\"text_10\">\r\n      <!-- 145000 -->\r\n      <g transform=\"translate(7.2 87.454677)scale(0.1 -0.1)\">\r\n       <use xlink:href=\"#DejaVuSans-49\"/>\r\n       <use x=\"63.623047\" xlink:href=\"#DejaVuSans-52\"/>\r\n       <use x=\"127.246094\" xlink:href=\"#DejaVuSans-53\"/>\r\n       <use x=\"190.869141\" xlink:href=\"#DejaVuSans-48\"/>\r\n       <use x=\"254.492188\" xlink:href=\"#DejaVuSans-48\"/>\r\n       <use x=\"318.115234\" xlink:href=\"#DejaVuSans-48\"/>\r\n      </g>\r\n     </g>\r\n    </g>\r\n    <g id=\"ytick_5\">\r\n     <g id=\"line2d_14\">\r\n      <g>\r\n       <use style=\"stroke:#000000;stroke-width:0.8;\" x=\"52.375\" xlink:href=\"#ma8111e08b7\" y=\"39.054211\"/>\r\n      </g>\r\n     </g>\r\n     <g id=\"text_11\">\r\n      <!-- 150000 -->\r\n      <g transform=\"translate(7.2 42.853429)scale(0.1 -0.1)\">\r\n       <use xlink:href=\"#DejaVuSans-49\"/>\r\n       <use x=\"63.623047\" xlink:href=\"#DejaVuSans-53\"/>\r\n       <use x=\"127.246094\" xlink:href=\"#DejaVuSans-48\"/>\r\n       <use x=\"190.869141\" xlink:href=\"#DejaVuSans-48\"/>\r\n       <use x=\"254.492188\" xlink:href=\"#DejaVuSans-48\"/>\r\n       <use x=\"318.115234\" xlink:href=\"#DejaVuSans-48\"/>\r\n      </g>\r\n     </g>\r\n    </g>\r\n   </g>\r\n   <g id=\"line2d_15\">\r\n    <path clip-path=\"url(#pe68fb6d457)\" d=\"M 52.375 37.858897 \r\nL 67.593182 37.849977 \r\nL 82.811364 36.5387 \r\nL 98.029545 34.665448 \r\nL 113.247727 33.907227 \r\nL 128.465909 32.283741 \r\nL 143.684091 30.553213 \r\nL 158.902273 28.706721 \r\nL 174.120455 26.851309 \r\nL 189.338636 25.201063 \r\nL 204.556818 22.872878 \r\nL 219.775 21.231552 \r\nL 234.993182 19.322619 \r\nL 250.211364 17.083636 \r\nL 265.429545 29.331139 \r\nL 280.647727 214.756364 \r\nL 295.865909 190.448684 \r\nL 311.084091 147.800971 \r\nL 326.302273 132.092412 \r\nL 341.520455 118.77448 \r\nL 356.738636 112.432182 \r\nL 371.956818 106.99083 \r\nL 387.175 104.805369 \r\n\" style=\"fill:none;stroke:#1f77b4;stroke-linecap:square;stroke-width:1.5;\"/>\r\n   </g>\r\n   <g id=\"patch_3\">\r\n    <path d=\"M 52.375 224.64 \r\nL 52.375 7.2 \r\n\" style=\"fill:none;stroke:#000000;stroke-linecap:square;stroke-linejoin:miter;stroke-width:0.8;\"/>\r\n   </g>\r\n   <g id=\"patch_4\">\r\n    <path d=\"M 387.175 224.64 \r\nL 387.175 7.2 \r\n\" style=\"fill:none;stroke:#000000;stroke-linecap:square;stroke-linejoin:miter;stroke-width:0.8;\"/>\r\n   </g>\r\n   <g id=\"patch_5\">\r\n    <path d=\"M 52.375 224.64 \r\nL 387.175 224.64 \r\n\" style=\"fill:none;stroke:#000000;stroke-linecap:square;stroke-linejoin:miter;stroke-width:0.8;\"/>\r\n   </g>\r\n   <g id=\"patch_6\">\r\n    <path d=\"M 52.375 7.2 \r\nL 387.175 7.2 \r\n\" style=\"fill:none;stroke:#000000;stroke-linecap:square;stroke-linejoin:miter;stroke-width:0.8;\"/>\r\n   </g>\r\n  </g>\r\n </g>\r\n <defs>\r\n  <clipPath id=\"pe68fb6d457\">\r\n   <rect height=\"217.44\" width=\"334.8\" x=\"52.375\" y=\"7.2\"/>\r\n  </clipPath>\r\n </defs>\r\n</svg>\r\n",
      "image/png": "[encoded data removed]"
     },
     "metadata": {
      "needs_background": "light"
     }
    }
   ],
   "source": [
    "emp['Total nonfarm'].plot()"
   ]
  },
  {
   "cell_type": "code",
   "execution_count": 129,
   "metadata": {},
   "outputs": [
    {
     "output_type": "execute_result",
     "data": {
      "text/plain": [
       "['Mining and logging',\n",
       " 'Construction',\n",
       " 'Manufacturing',\n",
       " 'Wholesale trade',\n",
       " 'Retail trade',\n",
       " 'Transportation, warehousing, and utilities',\n",
       " 'Information',\n",
       " 'Financial activities',\n",
       " 'Professional and business services',\n",
       " 'Education and health services',\n",
       " 'Leisure and hospitality',\n",
       " 'Other services',\n",
       " 'Federal',\n",
       " 'State and local']"
      ]
     },
     "metadata": {},
     "execution_count": 129
    }
   ],
   "source": [
    "final_list"
   ]
  },
  {
   "cell_type": "code",
   "execution_count": null,
   "metadata": {},
   "outputs": [],
   "source": [
    "'Mining and logging',\n",
    " 'Construction',\n",
    " 'Manufacturing',\n",
    " 'Wholesale trade',\n",
    " 'Retail trade',\n",
    " 'Transportation, warehousing, and utilities',\n",
    " 'Information',\n",
    " 'Financial activities',\n",
    " 'Professional and business services',\n",
    " 'Education and health services',\n",
    " 'Leisure and hospitality',\n",
    " 'Other services',\n",
    " 'Federal',\n",
    " 'State and local'"
   ]
  },
  {
   "cell_type": "code",
   "execution_count": 131,
   "metadata": {},
   "outputs": [
    {
     "output_type": "execute_result",
     "data": {
      "text/plain": [
       "['Total nonfarm',\n",
       " 'Total private',\n",
       " 'Mining and logging',\n",
       " 'Construction',\n",
       " 'Manufacturing',\n",
       " 'Wholesale trade',\n",
       " 'Retail trade',\n",
       " 'Transportation and warehousing',\n",
       " 'Utilities',\n",
       " 'Information',\n",
       " 'Financial activities',\n",
       " 'Professional and business services',\n",
       " 'Education and health services',\n",
       " 'Leisure and hospitality',\n",
       " 'Other services',\n",
       " 'Government',\n",
       " 'Federal government',\n",
       " 'State government',\n",
       " 'Local government']"
      ]
     },
     "metadata": {},
     "execution_count": 131
    }
   ],
   "source": [
    "emp.columns.tolist()"
   ]
  },
  {
   "cell_type": "code",
   "execution_count": 148,
   "metadata": {},
   "outputs": [
    {
     "output_type": "execute_result",
     "data": {
      "text/plain": [
       "           Mining and logging  Construction  Manufacturing  Wholesale trade  \\\n",
       "Month                                                                         \n",
       "Jan 2019                  746          7452          12825             5878   \n",
       "Feb 2019                  741          7423          12830             5884   \n",
       "Mar 2019                  741          7443          12827             5880   \n",
       "Apr 2019                  741          7469          12829             5893   \n",
       "May 2019                  743          7478          12829             5897   \n",
       "June 2019                 741          7497          12838             5898   \n",
       "July 2019                 736          7504          12845             5906   \n",
       "Aug 2019                  731          7508          12848             5906   \n",
       "Sept 2019                 731          7524          12851             5913   \n",
       "Oct 2019                  735          7541          12810             5923   \n",
       "Nov 2019                  724          7539          12868             5926   \n",
       "Dec 2019                  715          7555          12866             5933   \n",
       "Jan 2020                  712          7593          12844             5937   \n",
       "Feb 2020                  714          7639          12852             5934   \n",
       "Mar 2020                  706          7574          12806             5922   \n",
       "Apr 2020                  653          6556          11489             5537   \n",
       "May 2020                  633          7012          11729             5560   \n",
       "June 2020                 626          7171          12062             5612   \n",
       "July 2020                 620          7202          12103             5592   \n",
       "Aug 2020                  619          7226          12133             5605   \n",
       "Sept 2020                 621          7261          12193             5637   \n",
       "Oct 2020                  623          7333          12226             5642   \n",
       "Nov 2020                  624          7360          12253             5653   \n",
       "\n",
       "           Retail trade  Transportation and warehousing  Utilities  \\\n",
       "Month                                                                \n",
       "Jan 2019          15696                            5584        551   \n",
       "Feb 2019          15667                            5585        550   \n",
       "Mar 2019          15642                            5591        550   \n",
       "Apr 2019          15631                            5598        548   \n",
       "May 2019          15618                            5601        549   \n",
       "June 2019         15613                            5622        550   \n",
       "July 2019         15614                            5622        549   \n",
       "Aug 2019          15613                            5618        548   \n",
       "Sept 2019         15622                            5628        547   \n",
       "Oct 2019          15644                            5635        546   \n",
       "Nov 2019          15630                            5658        547   \n",
       "Dec 2019          15672                            5655        547   \n",
       "Jan 2020          15669                            5678        546   \n",
       "Feb 2020          15672                            5678        546   \n",
       "Mar 2020          15586                            5668        545   \n",
       "Apr 2020          13287                            5108        542   \n",
       "May 2020          13673                            5083        540   \n",
       "June 2020         14531                            5170        537   \n",
       "July 2020         14785                            5218        538   \n",
       "Aug 2020          15046                            5304        538   \n",
       "Sept 2020         15061                            5348        539   \n",
       "Oct 2020          15156                            5410        538   \n",
       "Nov 2020          15122                            5555        538   \n",
       "\n",
       "           Information  Financial activities  \\\n",
       "Month                                          \n",
       "Jan 2019          2843                  8676   \n",
       "Feb 2019          2841                  8690   \n",
       "Mar 2019          2851                  8707   \n",
       "Apr 2019          2845                  8721   \n",
       "May 2019          2853                  8727   \n",
       "June 2019         2865                  8732   \n",
       "July 2019         2862                  8753   \n",
       "Aug 2019          2861                  8768   \n",
       "Sept 2019         2866                  8771   \n",
       "Oct 2019          2865                  8792   \n",
       "Nov 2019          2874                  8804   \n",
       "Dec 2019          2883                  8814   \n",
       "Jan 2020          2894                  8823   \n",
       "Feb 2020          2894                  8845   \n",
       "Mar 2020          2888                  8827   \n",
       "Apr 2020          2609                  8566   \n",
       "May 2020          2569                  8585   \n",
       "June 2020         2576                  8605   \n",
       "July 2020         2565                  8620   \n",
       "Aug 2020          2588                  8648   \n",
       "Sept 2020         2641                  8685   \n",
       "Oct 2020          2613                  8715   \n",
       "Nov 2020          2614                  8730   \n",
       "\n",
       "           Professional and business services  Education and health services  \\\n",
       "Month                                                                          \n",
       "Jan 2019                                21126                          23900   \n",
       "Feb 2019                                21164                          23918   \n",
       "Mar 2019                                21176                          23981   \n",
       "Apr 2019                                21226                          24046   \n",
       "May 2019                                21253                          24076   \n",
       "June 2019                               21294                          24131   \n",
       "July 2019                               21337                          24204   \n",
       "Aug 2019                                21377                          24262   \n",
       "Sept 2019                               21402                          24323   \n",
       "Oct 2019                                21444                          24363   \n",
       "Nov 2019                                21481                          24436   \n",
       "Dec 2019                                21503                          24465   \n",
       "Jan 2020                                21523                          24534   \n",
       "Feb 2020                                21550                          24586   \n",
       "Mar 2020                                21456                          24408   \n",
       "Apr 2020                                19254                          21805   \n",
       "May 2020                                19414                          22193   \n",
       "June 2020                               19725                          22760   \n",
       "July 2020                               19887                          22979   \n",
       "Aug 2020                                20071                          23154   \n",
       "Sept 2020                               20198                          23214   \n",
       "Oct 2020                                20429                          23276   \n",
       "Nov 2020                                20489                          23330   \n",
       "\n",
       "           Leisure and hospitality  Other services  Government  \\\n",
       "Month                                                            \n",
       "Jan 2019                     16496            5853       22506   \n",
       "Feb 2019                     16473            5854       22513   \n",
       "Mar 2019                     16494            5869       22528   \n",
       "Apr 2019                     16507            5884       22553   \n",
       "May 2019                     16519            5881       22551   \n",
       "June 2019                    16526            5896       22553   \n",
       "July 2019                    16528            5905       22587   \n",
       "Aug 2019                     16570            5910       22637   \n",
       "Sept 2019                    16631            5907       22650   \n",
       "Oct 2019                     16701            5907       22645   \n",
       "Nov 2019                     16744            5923       22659   \n",
       "Dec 2019                     16784            5925       22679   \n",
       "Jan 2020                     16808            5935       22714   \n",
       "Feb 2020                     16867            5941       22745   \n",
       "Mar 2020                     16124            5850       22728   \n",
       "Apr 2020                      8549            4571       21776   \n",
       "May 2020                      9954            4816       21265   \n",
       "June 2020                    11933            5182       21317   \n",
       "July 2020                    12566            5340       21552   \n",
       "Aug 2020                     12704            5409       22017   \n",
       "Sept 2020                    13117            5458       21798   \n",
       "Oct 2020                     13387            5502       21531   \n",
       "Nov 2020                     13418            5509       21432   \n",
       "\n",
       "           Federal government  State government  Local government  \\\n",
       "Month                                                               \n",
       "Jan 2019                 2811              5170             14525   \n",
       "Feb 2019                 2814              5175             14524   \n",
       "Mar 2019                 2815              5175             14538   \n",
       "Apr 2019                 2823              5169             14561   \n",
       "May 2019                 2826              5158             14567   \n",
       "June 2019                2829              5157             14567   \n",
       "July 2019                2831              5168             14588   \n",
       "Aug 2019                 2857              5184             14596   \n",
       "Sept 2019                2857              5181             14612   \n",
       "Oct 2019                 2844              5184             14617   \n",
       "Nov 2019                 2850              5181             14628   \n",
       "Dec 2019                 2847              5184             14648   \n",
       "Jan 2020                 2855              5190             14669   \n",
       "Feb 2020                 2867              5199             14679   \n",
       "Mar 2020                 2886              5162             14680   \n",
       "Apr 2020                 2893              4993             13890   \n",
       "May 2020                 2885              4956             13424   \n",
       "June 2020                2883              4973             13461   \n",
       "July 2020                2912              4964             13676   \n",
       "Aug 2020                 3164              4988             13865   \n",
       "Sept 2020                3128              4921             13749   \n",
       "Oct 2020                 2986              4854             13691   \n",
       "Nov 2020                 2900              4854             13678   \n",
       "\n",
       "           Transportation, warehousing, and utilities  State and local  \n",
       "Month                                                                   \n",
       "Jan 2019                                         6135            19695  \n",
       "Feb 2019                                         6135            19699  \n",
       "Mar 2019                                         6141            19713  \n",
       "Apr 2019                                         6146            19730  \n",
       "May 2019                                         6150            19725  \n",
       "June 2019                                        6172            19724  \n",
       "July 2019                                        6171            19756  \n",
       "Aug 2019                                         6166            19780  \n",
       "Sept 2019                                        6175            19793  \n",
       "Oct 2019                                         6181            19801  \n",
       "Nov 2019                                         6205            19809  \n",
       "Dec 2019                                         6202            19832  \n",
       "Jan 2020                                         6224            19859  \n",
       "Feb 2020                                         6224            19878  \n",
       "Mar 2020                                         6213            19842  \n",
       "Apr 2020                                         5650            18883  \n",
       "May 2020                                         5623            18380  \n",
       "June 2020                                        5707            18434  \n",
       "July 2020                                        5756            18640  \n",
       "Aug 2020                                         5842            18853  \n",
       "Sept 2020                                        5887            18670  \n",
       "Oct 2020                                         5948            18545  \n",
       "Nov 2020                                         6093            18532  "
      ],
      "text/html": "<div>\n<style scoped>\n    .dataframe tbody tr th:only-of-type {\n        vertical-align: middle;\n    }\n\n    .dataframe tbody tr th {\n        vertical-align: top;\n    }\n\n    .dataframe thead th {\n        text-align: right;\n    }\n</style>\n<table border=\"1\" class=\"dataframe\">\n  <thead>\n    <tr style=\"text-align: right;\">\n      <th></th>\n      <th>Mining and logging</th>\n      <th>Construction</th>\n      <th>Manufacturing</th>\n      <th>Wholesale trade</th>\n      <th>Retail trade</th>\n      <th>Transportation and warehousing</th>\n      <th>Utilities</th>\n      <th>Information</th>\n      <th>Financial activities</th>\n      <th>Professional and business services</th>\n      <th>Education and health services</th>\n      <th>Leisure and hospitality</th>\n      <th>Other services</th>\n      <th>Government</th>\n      <th>Federal government</th>\n      <th>State government</th>\n      <th>Local government</th>\n      <th>Transportation, warehousing, and utilities</th>\n      <th>State and local</th>\n    </tr>\n    <tr>\n      <th>Month</th>\n      <th></th>\n      <th></th>\n      <th></th>\n      <th></th>\n      <th></th>\n      <th></th>\n      <th></th>\n      <th></th>\n      <th></th>\n      <th></th>\n      <th></th>\n      <th></th>\n      <th></th>\n      <th></th>\n      <th></th>\n      <th></th>\n      <th></th>\n      <th></th>\n      <th></th>\n    </tr>\n  </thead>\n  <tbody>\n    <tr>\n      <td>Jan 2019</td>\n      <td>746</td>\n      <td>7452</td>\n      <td>12825</td>\n      <td>5878</td>\n      <td>15696</td>\n      <td>5584</td>\n      <td>551</td>\n      <td>2843</td>\n      <td>8676</td>\n      <td>21126</td>\n      <td>23900</td>\n      <td>16496</td>\n      <td>5853</td>\n      <td>22506</td>\n      <td>2811</td>\n      <td>5170</td>\n      <td>14525</td>\n      <td>6135</td>\n      <td>19695</td>\n    </tr>\n    <tr>\n      <td>Feb 2019</td>\n      <td>741</td>\n      <td>7423</td>\n      <td>12830</td>\n      <td>5884</td>\n      <td>15667</td>\n      <td>5585</td>\n      <td>550</td>\n      <td>2841</td>\n      <td>8690</td>\n      <td>21164</td>\n      <td>23918</td>\n      <td>16473</td>\n      <td>5854</td>\n      <td>22513</td>\n      <td>2814</td>\n      <td>5175</td>\n      <td>14524</td>\n      <td>6135</td>\n      <td>19699</td>\n    </tr>\n    <tr>\n      <td>Mar 2019</td>\n      <td>741</td>\n      <td>7443</td>\n      <td>12827</td>\n      <td>5880</td>\n      <td>15642</td>\n      <td>5591</td>\n      <td>550</td>\n      <td>2851</td>\n      <td>8707</td>\n      <td>21176</td>\n      <td>23981</td>\n      <td>16494</td>\n      <td>5869</td>\n      <td>22528</td>\n      <td>2815</td>\n      <td>5175</td>\n      <td>14538</td>\n      <td>6141</td>\n      <td>19713</td>\n    </tr>\n    <tr>\n      <td>Apr 2019</td>\n      <td>741</td>\n      <td>7469</td>\n      <td>12829</td>\n      <td>5893</td>\n      <td>15631</td>\n      <td>5598</td>\n      <td>548</td>\n      <td>2845</td>\n      <td>8721</td>\n      <td>21226</td>\n      <td>24046</td>\n      <td>16507</td>\n      <td>5884</td>\n      <td>22553</td>\n      <td>2823</td>\n      <td>5169</td>\n      <td>14561</td>\n      <td>6146</td>\n      <td>19730</td>\n    </tr>\n    <tr>\n      <td>May 2019</td>\n      <td>743</td>\n      <td>7478</td>\n      <td>12829</td>\n      <td>5897</td>\n      <td>15618</td>\n      <td>5601</td>\n      <td>549</td>\n      <td>2853</td>\n      <td>8727</td>\n      <td>21253</td>\n      <td>24076</td>\n      <td>16519</td>\n      <td>5881</td>\n      <td>22551</td>\n      <td>2826</td>\n      <td>5158</td>\n      <td>14567</td>\n      <td>6150</td>\n      <td>19725</td>\n    </tr>\n    <tr>\n      <td>June 2019</td>\n      <td>741</td>\n      <td>7497</td>\n      <td>12838</td>\n      <td>5898</td>\n      <td>15613</td>\n      <td>5622</td>\n      <td>550</td>\n      <td>2865</td>\n      <td>8732</td>\n      <td>21294</td>\n      <td>24131</td>\n      <td>16526</td>\n      <td>5896</td>\n      <td>22553</td>\n      <td>2829</td>\n      <td>5157</td>\n      <td>14567</td>\n      <td>6172</td>\n      <td>19724</td>\n    </tr>\n    <tr>\n      <td>July 2019</td>\n      <td>736</td>\n      <td>7504</td>\n      <td>12845</td>\n      <td>5906</td>\n      <td>15614</td>\n      <td>5622</td>\n      <td>549</td>\n      <td>2862</td>\n      <td>8753</td>\n      <td>21337</td>\n      <td>24204</td>\n      <td>16528</td>\n      <td>5905</td>\n      <td>22587</td>\n      <td>2831</td>\n      <td>5168</td>\n      <td>14588</td>\n      <td>6171</td>\n      <td>19756</td>\n    </tr>\n    <tr>\n      <td>Aug 2019</td>\n      <td>731</td>\n      <td>7508</td>\n      <td>12848</td>\n      <td>5906</td>\n      <td>15613</td>\n      <td>5618</td>\n      <td>548</td>\n      <td>2861</td>\n      <td>8768</td>\n      <td>21377</td>\n      <td>24262</td>\n      <td>16570</td>\n      <td>5910</td>\n      <td>22637</td>\n      <td>2857</td>\n      <td>5184</td>\n      <td>14596</td>\n      <td>6166</td>\n      <td>19780</td>\n    </tr>\n    <tr>\n      <td>Sept 2019</td>\n      <td>731</td>\n      <td>7524</td>\n      <td>12851</td>\n      <td>5913</td>\n      <td>15622</td>\n      <td>5628</td>\n      <td>547</td>\n      <td>2866</td>\n      <td>8771</td>\n      <td>21402</td>\n      <td>24323</td>\n      <td>16631</td>\n      <td>5907</td>\n      <td>22650</td>\n      <td>2857</td>\n      <td>5181</td>\n      <td>14612</td>\n      <td>6175</td>\n      <td>19793</td>\n    </tr>\n    <tr>\n      <td>Oct 2019</td>\n      <td>735</td>\n      <td>7541</td>\n      <td>12810</td>\n      <td>5923</td>\n      <td>15644</td>\n      <td>5635</td>\n      <td>546</td>\n      <td>2865</td>\n      <td>8792</td>\n      <td>21444</td>\n      <td>24363</td>\n      <td>16701</td>\n      <td>5907</td>\n      <td>22645</td>\n      <td>2844</td>\n      <td>5184</td>\n      <td>14617</td>\n      <td>6181</td>\n      <td>19801</td>\n    </tr>\n    <tr>\n      <td>Nov 2019</td>\n      <td>724</td>\n      <td>7539</td>\n      <td>12868</td>\n      <td>5926</td>\n      <td>15630</td>\n      <td>5658</td>\n      <td>547</td>\n      <td>2874</td>\n      <td>8804</td>\n      <td>21481</td>\n      <td>24436</td>\n      <td>16744</td>\n      <td>5923</td>\n      <td>22659</td>\n      <td>2850</td>\n      <td>5181</td>\n      <td>14628</td>\n      <td>6205</td>\n      <td>19809</td>\n    </tr>\n    <tr>\n      <td>Dec 2019</td>\n      <td>715</td>\n      <td>7555</td>\n      <td>12866</td>\n      <td>5933</td>\n      <td>15672</td>\n      <td>5655</td>\n      <td>547</td>\n      <td>2883</td>\n      <td>8814</td>\n      <td>21503</td>\n      <td>24465</td>\n      <td>16784</td>\n      <td>5925</td>\n      <td>22679</td>\n      <td>2847</td>\n      <td>5184</td>\n      <td>14648</td>\n      <td>6202</td>\n      <td>19832</td>\n    </tr>\n    <tr>\n      <td>Jan 2020</td>\n      <td>712</td>\n      <td>7593</td>\n      <td>12844</td>\n      <td>5937</td>\n      <td>15669</td>\n      <td>5678</td>\n      <td>546</td>\n      <td>2894</td>\n      <td>8823</td>\n      <td>21523</td>\n      <td>24534</td>\n      <td>16808</td>\n      <td>5935</td>\n      <td>22714</td>\n      <td>2855</td>\n      <td>5190</td>\n      <td>14669</td>\n      <td>6224</td>\n      <td>19859</td>\n    </tr>\n    <tr>\n      <td>Feb 2020</td>\n      <td>714</td>\n      <td>7639</td>\n      <td>12852</td>\n      <td>5934</td>\n      <td>15672</td>\n      <td>5678</td>\n      <td>546</td>\n      <td>2894</td>\n      <td>8845</td>\n      <td>21550</td>\n      <td>24586</td>\n      <td>16867</td>\n      <td>5941</td>\n      <td>22745</td>\n      <td>2867</td>\n      <td>5199</td>\n      <td>14679</td>\n      <td>6224</td>\n      <td>19878</td>\n    </tr>\n    <tr>\n      <td>Mar 2020</td>\n      <td>706</td>\n      <td>7574</td>\n      <td>12806</td>\n      <td>5922</td>\n      <td>15586</td>\n      <td>5668</td>\n      <td>545</td>\n      <td>2888</td>\n      <td>8827</td>\n      <td>21456</td>\n      <td>24408</td>\n      <td>16124</td>\n      <td>5850</td>\n      <td>22728</td>\n      <td>2886</td>\n      <td>5162</td>\n      <td>14680</td>\n      <td>6213</td>\n      <td>19842</td>\n    </tr>\n    <tr>\n      <td>Apr 2020</td>\n      <td>653</td>\n      <td>6556</td>\n      <td>11489</td>\n      <td>5537</td>\n      <td>13287</td>\n      <td>5108</td>\n      <td>542</td>\n      <td>2609</td>\n      <td>8566</td>\n      <td>19254</td>\n      <td>21805</td>\n      <td>8549</td>\n      <td>4571</td>\n      <td>21776</td>\n      <td>2893</td>\n      <td>4993</td>\n      <td>13890</td>\n      <td>5650</td>\n      <td>18883</td>\n    </tr>\n    <tr>\n      <td>May 2020</td>\n      <td>633</td>\n      <td>7012</td>\n      <td>11729</td>\n      <td>5560</td>\n      <td>13673</td>\n      <td>5083</td>\n      <td>540</td>\n      <td>2569</td>\n      <td>8585</td>\n      <td>19414</td>\n      <td>22193</td>\n      <td>9954</td>\n      <td>4816</td>\n      <td>21265</td>\n      <td>2885</td>\n      <td>4956</td>\n      <td>13424</td>\n      <td>5623</td>\n      <td>18380</td>\n    </tr>\n    <tr>\n      <td>June 2020</td>\n      <td>626</td>\n      <td>7171</td>\n      <td>12062</td>\n      <td>5612</td>\n      <td>14531</td>\n      <td>5170</td>\n      <td>537</td>\n      <td>2576</td>\n      <td>8605</td>\n      <td>19725</td>\n      <td>22760</td>\n      <td>11933</td>\n      <td>5182</td>\n      <td>21317</td>\n      <td>2883</td>\n      <td>4973</td>\n      <td>13461</td>\n      <td>5707</td>\n      <td>18434</td>\n    </tr>\n    <tr>\n      <td>July 2020</td>\n      <td>620</td>\n      <td>7202</td>\n      <td>12103</td>\n      <td>5592</td>\n      <td>14785</td>\n      <td>5218</td>\n      <td>538</td>\n      <td>2565</td>\n      <td>8620</td>\n      <td>19887</td>\n      <td>22979</td>\n      <td>12566</td>\n      <td>5340</td>\n      <td>21552</td>\n      <td>2912</td>\n      <td>4964</td>\n      <td>13676</td>\n      <td>5756</td>\n      <td>18640</td>\n    </tr>\n    <tr>\n      <td>Aug 2020</td>\n      <td>619</td>\n      <td>7226</td>\n      <td>12133</td>\n      <td>5605</td>\n      <td>15046</td>\n      <td>5304</td>\n      <td>538</td>\n      <td>2588</td>\n      <td>8648</td>\n      <td>20071</td>\n      <td>23154</td>\n      <td>12704</td>\n      <td>5409</td>\n      <td>22017</td>\n      <td>3164</td>\n      <td>4988</td>\n      <td>13865</td>\n      <td>5842</td>\n      <td>18853</td>\n    </tr>\n    <tr>\n      <td>Sept 2020</td>\n      <td>621</td>\n      <td>7261</td>\n      <td>12193</td>\n      <td>5637</td>\n      <td>15061</td>\n      <td>5348</td>\n      <td>539</td>\n      <td>2641</td>\n      <td>8685</td>\n      <td>20198</td>\n      <td>23214</td>\n      <td>13117</td>\n      <td>5458</td>\n      <td>21798</td>\n      <td>3128</td>\n      <td>4921</td>\n      <td>13749</td>\n      <td>5887</td>\n      <td>18670</td>\n    </tr>\n    <tr>\n      <td>Oct 2020</td>\n      <td>623</td>\n      <td>7333</td>\n      <td>12226</td>\n      <td>5642</td>\n      <td>15156</td>\n      <td>5410</td>\n      <td>538</td>\n      <td>2613</td>\n      <td>8715</td>\n      <td>20429</td>\n      <td>23276</td>\n      <td>13387</td>\n      <td>5502</td>\n      <td>21531</td>\n      <td>2986</td>\n      <td>4854</td>\n      <td>13691</td>\n      <td>5948</td>\n      <td>18545</td>\n    </tr>\n    <tr>\n      <td>Nov 2020</td>\n      <td>624</td>\n      <td>7360</td>\n      <td>12253</td>\n      <td>5653</td>\n      <td>15122</td>\n      <td>5555</td>\n      <td>538</td>\n      <td>2614</td>\n      <td>8730</td>\n      <td>20489</td>\n      <td>23330</td>\n      <td>13418</td>\n      <td>5509</td>\n      <td>21432</td>\n      <td>2900</td>\n      <td>4854</td>\n      <td>13678</td>\n      <td>6093</td>\n      <td>18532</td>\n    </tr>\n  </tbody>\n</table>\n</div>"
     },
     "metadata": {},
     "execution_count": 148
    }
   ],
   "source": [
    "femp = emp[['Mining and logging',\n",
    " 'Construction',\n",
    " 'Manufacturing',\n",
    " 'Wholesale trade',\n",
    " 'Retail trade',\n",
    " 'Transportation and warehousing',\n",
    " 'Utilities',\n",
    " 'Information',\n",
    " 'Financial activities',\n",
    " 'Professional and business services',\n",
    " 'Education and health services',\n",
    " 'Leisure and hospitality',\n",
    " 'Other services',\n",
    " 'Government',\n",
    " 'Federal government',\n",
    " 'State government',\n",
    " 'Local government']]\n",
    "femp['Transportation, warehousing, and utilities'] = femp['Transportation and warehousing']+ femp['Utilities']\n",
    "femp['State and local'] = femp['State government']+ femp['Local government']\n",
    "femp"
   ]
  },
  {
   "cell_type": "code",
   "execution_count": 153,
   "metadata": {},
   "outputs": [
    {
     "output_type": "execute_result",
     "data": {
      "text/plain": [
       "           Mining and logging  Construction  Manufacturing  Wholesale trade  \\\n",
       "Month                                                                         \n",
       "Jan 2019                  746          7452          12825             5878   \n",
       "Feb 2019                  741          7423          12830             5884   \n",
       "Mar 2019                  741          7443          12827             5880   \n",
       "Apr 2019                  741          7469          12829             5893   \n",
       "May 2019                  743          7478          12829             5897   \n",
       "June 2019                 741          7497          12838             5898   \n",
       "July 2019                 736          7504          12845             5906   \n",
       "Aug 2019                  731          7508          12848             5906   \n",
       "Sept 2019                 731          7524          12851             5913   \n",
       "Oct 2019                  735          7541          12810             5923   \n",
       "Nov 2019                  724          7539          12868             5926   \n",
       "Dec 2019                  715          7555          12866             5933   \n",
       "Jan 2020                  712          7593          12844             5937   \n",
       "Feb 2020                  714          7639          12852             5934   \n",
       "Mar 2020                  706          7574          12806             5922   \n",
       "Apr 2020                  653          6556          11489             5537   \n",
       "May 2020                  633          7012          11729             5560   \n",
       "June 2020                 626          7171          12062             5612   \n",
       "July 2020                 620          7202          12103             5592   \n",
       "Aug 2020                  619          7226          12133             5605   \n",
       "Sept 2020                 621          7261          12193             5637   \n",
       "Oct 2020                  623          7333          12226             5642   \n",
       "Nov 2020                  624          7360          12253             5653   \n",
       "\n",
       "           Retail trade  Transportation and warehousing  Utilities  \\\n",
       "Month                                                                \n",
       "Jan 2019          15696                            5584        551   \n",
       "Feb 2019          15667                            5585        550   \n",
       "Mar 2019          15642                            5591        550   \n",
       "Apr 2019          15631                            5598        548   \n",
       "May 2019          15618                            5601        549   \n",
       "June 2019         15613                            5622        550   \n",
       "July 2019         15614                            5622        549   \n",
       "Aug 2019          15613                            5618        548   \n",
       "Sept 2019         15622                            5628        547   \n",
       "Oct 2019          15644                            5635        546   \n",
       "Nov 2019          15630                            5658        547   \n",
       "Dec 2019          15672                            5655        547   \n",
       "Jan 2020          15669                            5678        546   \n",
       "Feb 2020          15672                            5678        546   \n",
       "Mar 2020          15586                            5668        545   \n",
       "Apr 2020          13287                            5108        542   \n",
       "May 2020          13673                            5083        540   \n",
       "June 2020         14531                            5170        537   \n",
       "July 2020         14785                            5218        538   \n",
       "Aug 2020          15046                            5304        538   \n",
       "Sept 2020         15061                            5348        539   \n",
       "Oct 2020          15156                            5410        538   \n",
       "Nov 2020          15122                            5555        538   \n",
       "\n",
       "           Information  Financial activities  \\\n",
       "Month                                          \n",
       "Jan 2019          2843                  8676   \n",
       "Feb 2019          2841                  8690   \n",
       "Mar 2019          2851                  8707   \n",
       "Apr 2019          2845                  8721   \n",
       "May 2019          2853                  8727   \n",
       "June 2019         2865                  8732   \n",
       "July 2019         2862                  8753   \n",
       "Aug 2019          2861                  8768   \n",
       "Sept 2019         2866                  8771   \n",
       "Oct 2019          2865                  8792   \n",
       "Nov 2019          2874                  8804   \n",
       "Dec 2019          2883                  8814   \n",
       "Jan 2020          2894                  8823   \n",
       "Feb 2020          2894                  8845   \n",
       "Mar 2020          2888                  8827   \n",
       "Apr 2020          2609                  8566   \n",
       "May 2020          2569                  8585   \n",
       "June 2020         2576                  8605   \n",
       "July 2020         2565                  8620   \n",
       "Aug 2020          2588                  8648   \n",
       "Sept 2020         2641                  8685   \n",
       "Oct 2020          2613                  8715   \n",
       "Nov 2020          2614                  8730   \n",
       "\n",
       "           Professional and business services  Education and health services  \\\n",
       "Month                                                                          \n",
       "Jan 2019                                21126                          23900   \n",
       "Feb 2019                                21164                          23918   \n",
       "Mar 2019                                21176                          23981   \n",
       "Apr 2019                                21226                          24046   \n",
       "May 2019                                21253                          24076   \n",
       "June 2019                               21294                          24131   \n",
       "July 2019                               21337                          24204   \n",
       "Aug 2019                                21377                          24262   \n",
       "Sept 2019                               21402                          24323   \n",
       "Oct 2019                                21444                          24363   \n",
       "Nov 2019                                21481                          24436   \n",
       "Dec 2019                                21503                          24465   \n",
       "Jan 2020                                21523                          24534   \n",
       "Feb 2020                                21550                          24586   \n",
       "Mar 2020                                21456                          24408   \n",
       "Apr 2020                                19254                          21805   \n",
       "May 2020                                19414                          22193   \n",
       "June 2020                               19725                          22760   \n",
       "July 2020                               19887                          22979   \n",
       "Aug 2020                                20071                          23154   \n",
       "Sept 2020                               20198                          23214   \n",
       "Oct 2020                                20429                          23276   \n",
       "Nov 2020                                20489                          23330   \n",
       "\n",
       "           Leisure and hospitality  Other services  Government  \\\n",
       "Month                                                            \n",
       "Jan 2019                     16496            5853       22506   \n",
       "Feb 2019                     16473            5854       22513   \n",
       "Mar 2019                     16494            5869       22528   \n",
       "Apr 2019                     16507            5884       22553   \n",
       "May 2019                     16519            5881       22551   \n",
       "June 2019                    16526            5896       22553   \n",
       "July 2019                    16528            5905       22587   \n",
       "Aug 2019                     16570            5910       22637   \n",
       "Sept 2019                    16631            5907       22650   \n",
       "Oct 2019                     16701            5907       22645   \n",
       "Nov 2019                     16744            5923       22659   \n",
       "Dec 2019                     16784            5925       22679   \n",
       "Jan 2020                     16808            5935       22714   \n",
       "Feb 2020                     16867            5941       22745   \n",
       "Mar 2020                     16124            5850       22728   \n",
       "Apr 2020                      8549            4571       21776   \n",
       "May 2020                      9954            4816       21265   \n",
       "June 2020                    11933            5182       21317   \n",
       "July 2020                    12566            5340       21552   \n",
       "Aug 2020                     12704            5409       22017   \n",
       "Sept 2020                    13117            5458       21798   \n",
       "Oct 2020                     13387            5502       21531   \n",
       "Nov 2020                     13418            5509       21432   \n",
       "\n",
       "           Federal government  State government  Local government  \\\n",
       "Month                                                               \n",
       "Jan 2019                 2811              5170             14525   \n",
       "Feb 2019                 2814              5175             14524   \n",
       "Mar 2019                 2815              5175             14538   \n",
       "Apr 2019                 2823              5169             14561   \n",
       "May 2019                 2826              5158             14567   \n",
       "June 2019                2829              5157             14567   \n",
       "July 2019                2831              5168             14588   \n",
       "Aug 2019                 2857              5184             14596   \n",
       "Sept 2019                2857              5181             14612   \n",
       "Oct 2019                 2844              5184             14617   \n",
       "Nov 2019                 2850              5181             14628   \n",
       "Dec 2019                 2847              5184             14648   \n",
       "Jan 2020                 2855              5190             14669   \n",
       "Feb 2020                 2867              5199             14679   \n",
       "Mar 2020                 2886              5162             14680   \n",
       "Apr 2020                 2893              4993             13890   \n",
       "May 2020                 2885              4956             13424   \n",
       "June 2020                2883              4973             13461   \n",
       "July 2020                2912              4964             13676   \n",
       "Aug 2020                 3164              4988             13865   \n",
       "Sept 2020                3128              4921             13749   \n",
       "Oct 2020                 2986              4854             13691   \n",
       "Nov 2020                 2900              4854             13678   \n",
       "\n",
       "           Transportation, warehousing, and utilities  \\\n",
       "Month                                                   \n",
       "Jan 2019                                         6135   \n",
       "Feb 2019                                         6135   \n",
       "Mar 2019                                         6141   \n",
       "Apr 2019                                         6146   \n",
       "May 2019                                         6150   \n",
       "June 2019                                        6172   \n",
       "July 2019                                        6171   \n",
       "Aug 2019                                         6166   \n",
       "Sept 2019                                        6175   \n",
       "Oct 2019                                         6181   \n",
       "Nov 2019                                         6205   \n",
       "Dec 2019                                         6202   \n",
       "Jan 2020                                         6224   \n",
       "Feb 2020                                         6224   \n",
       "Mar 2020                                         6213   \n",
       "Apr 2020                                         5650   \n",
       "May 2020                                         5623   \n",
       "June 2020                                        5707   \n",
       "July 2020                                        5756   \n",
       "Aug 2020                                         5842   \n",
       "Sept 2020                                        5887   \n",
       "Oct 2020                                         5948   \n",
       "Nov 2020                                         6093   \n",
       "\n",
       "           State and local government  \n",
       "Month                                  \n",
       "Jan 2019                        19695  \n",
       "Feb 2019                        19699  \n",
       "Mar 2019                        19713  \n",
       "Apr 2019                        19730  \n",
       "May 2019                        19725  \n",
       "June 2019                       19724  \n",
       "July 2019                       19756  \n",
       "Aug 2019                        19780  \n",
       "Sept 2019                       19793  \n",
       "Oct 2019                        19801  \n",
       "Nov 2019                        19809  \n",
       "Dec 2019                        19832  \n",
       "Jan 2020                        19859  \n",
       "Feb 2020                        19878  \n",
       "Mar 2020                        19842  \n",
       "Apr 2020                        18883  \n",
       "May 2020                        18380  \n",
       "June 2020                       18434  \n",
       "July 2020                       18640  \n",
       "Aug 2020                        18853  \n",
       "Sept 2020                       18670  \n",
       "Oct 2020                        18545  \n",
       "Nov 2020                        18532  "
      ],
      "text/html": "<div>\n<style scoped>\n    .dataframe tbody tr th:only-of-type {\n        vertical-align: middle;\n    }\n\n    .dataframe tbody tr th {\n        vertical-align: top;\n    }\n\n    .dataframe thead th {\n        text-align: right;\n    }\n</style>\n<table border=\"1\" class=\"dataframe\">\n  <thead>\n    <tr style=\"text-align: right;\">\n      <th></th>\n      <th>Mining and logging</th>\n      <th>Construction</th>\n      <th>Manufacturing</th>\n      <th>Wholesale trade</th>\n      <th>Retail trade</th>\n      <th>Transportation and warehousing</th>\n      <th>Utilities</th>\n      <th>Information</th>\n      <th>Financial activities</th>\n      <th>Professional and business services</th>\n      <th>Education and health services</th>\n      <th>Leisure and hospitality</th>\n      <th>Other services</th>\n      <th>Government</th>\n      <th>Federal government</th>\n      <th>State government</th>\n      <th>Local government</th>\n      <th>Transportation, warehousing, and utilities</th>\n      <th>State and local government</th>\n    </tr>\n    <tr>\n      <th>Month</th>\n      <th></th>\n      <th></th>\n      <th></th>\n      <th></th>\n      <th></th>\n      <th></th>\n      <th></th>\n      <th></th>\n      <th></th>\n      <th></th>\n      <th></th>\n      <th></th>\n      <th></th>\n      <th></th>\n      <th></th>\n      <th></th>\n      <th></th>\n      <th></th>\n      <th></th>\n    </tr>\n  </thead>\n  <tbody>\n    <tr>\n      <td>Jan 2019</td>\n      <td>746</td>\n      <td>7452</td>\n      <td>12825</td>\n      <td>5878</td>\n      <td>15696</td>\n      <td>5584</td>\n      <td>551</td>\n      <td>2843</td>\n      <td>8676</td>\n      <td>21126</td>\n      <td>23900</td>\n      <td>16496</td>\n      <td>5853</td>\n      <td>22506</td>\n      <td>2811</td>\n      <td>5170</td>\n      <td>14525</td>\n      <td>6135</td>\n      <td>19695</td>\n    </tr>\n    <tr>\n      <td>Feb 2019</td>\n      <td>741</td>\n      <td>7423</td>\n      <td>12830</td>\n      <td>5884</td>\n      <td>15667</td>\n      <td>5585</td>\n      <td>550</td>\n      <td>2841</td>\n      <td>8690</td>\n      <td>21164</td>\n      <td>23918</td>\n      <td>16473</td>\n      <td>5854</td>\n      <td>22513</td>\n      <td>2814</td>\n      <td>5175</td>\n      <td>14524</td>\n      <td>6135</td>\n      <td>19699</td>\n    </tr>\n    <tr>\n      <td>Mar 2019</td>\n      <td>741</td>\n      <td>7443</td>\n      <td>12827</td>\n      <td>5880</td>\n      <td>15642</td>\n      <td>5591</td>\n      <td>550</td>\n      <td>2851</td>\n      <td>8707</td>\n      <td>21176</td>\n      <td>23981</td>\n      <td>16494</td>\n      <td>5869</td>\n      <td>22528</td>\n      <td>2815</td>\n      <td>5175</td>\n      <td>14538</td>\n      <td>6141</td>\n      <td>19713</td>\n    </tr>\n    <tr>\n      <td>Apr 2019</td>\n      <td>741</td>\n      <td>7469</td>\n      <td>12829</td>\n      <td>5893</td>\n      <td>15631</td>\n      <td>5598</td>\n      <td>548</td>\n      <td>2845</td>\n      <td>8721</td>\n      <td>21226</td>\n      <td>24046</td>\n      <td>16507</td>\n      <td>5884</td>\n      <td>22553</td>\n      <td>2823</td>\n      <td>5169</td>\n      <td>14561</td>\n      <td>6146</td>\n      <td>19730</td>\n    </tr>\n    <tr>\n      <td>May 2019</td>\n      <td>743</td>\n      <td>7478</td>\n      <td>12829</td>\n      <td>5897</td>\n      <td>15618</td>\n      <td>5601</td>\n      <td>549</td>\n      <td>2853</td>\n      <td>8727</td>\n      <td>21253</td>\n      <td>24076</td>\n      <td>16519</td>\n      <td>5881</td>\n      <td>22551</td>\n      <td>2826</td>\n      <td>5158</td>\n      <td>14567</td>\n      <td>6150</td>\n      <td>19725</td>\n    </tr>\n    <tr>\n      <td>June 2019</td>\n      <td>741</td>\n      <td>7497</td>\n      <td>12838</td>\n      <td>5898</td>\n      <td>15613</td>\n      <td>5622</td>\n      <td>550</td>\n      <td>2865</td>\n      <td>8732</td>\n      <td>21294</td>\n      <td>24131</td>\n      <td>16526</td>\n      <td>5896</td>\n      <td>22553</td>\n      <td>2829</td>\n      <td>5157</td>\n      <td>14567</td>\n      <td>6172</td>\n      <td>19724</td>\n    </tr>\n    <tr>\n      <td>July 2019</td>\n      <td>736</td>\n      <td>7504</td>\n      <td>12845</td>\n      <td>5906</td>\n      <td>15614</td>\n      <td>5622</td>\n      <td>549</td>\n      <td>2862</td>\n      <td>8753</td>\n      <td>21337</td>\n      <td>24204</td>\n      <td>16528</td>\n      <td>5905</td>\n      <td>22587</td>\n      <td>2831</td>\n      <td>5168</td>\n      <td>14588</td>\n      <td>6171</td>\n      <td>19756</td>\n    </tr>\n    <tr>\n      <td>Aug 2019</td>\n      <td>731</td>\n      <td>7508</td>\n      <td>12848</td>\n      <td>5906</td>\n      <td>15613</td>\n      <td>5618</td>\n      <td>548</td>\n      <td>2861</td>\n      <td>8768</td>\n      <td>21377</td>\n      <td>24262</td>\n      <td>16570</td>\n      <td>5910</td>\n      <td>22637</td>\n      <td>2857</td>\n      <td>5184</td>\n      <td>14596</td>\n      <td>6166</td>\n      <td>19780</td>\n    </tr>\n    <tr>\n      <td>Sept 2019</td>\n      <td>731</td>\n      <td>7524</td>\n      <td>12851</td>\n      <td>5913</td>\n      <td>15622</td>\n      <td>5628</td>\n      <td>547</td>\n      <td>2866</td>\n      <td>8771</td>\n      <td>21402</td>\n      <td>24323</td>\n      <td>16631</td>\n      <td>5907</td>\n      <td>22650</td>\n      <td>2857</td>\n      <td>5181</td>\n      <td>14612</td>\n      <td>6175</td>\n      <td>19793</td>\n    </tr>\n    <tr>\n      <td>Oct 2019</td>\n      <td>735</td>\n      <td>7541</td>\n      <td>12810</td>\n      <td>5923</td>\n      <td>15644</td>\n      <td>5635</td>\n      <td>546</td>\n      <td>2865</td>\n      <td>8792</td>\n      <td>21444</td>\n      <td>24363</td>\n      <td>16701</td>\n      <td>5907</td>\n      <td>22645</td>\n      <td>2844</td>\n      <td>5184</td>\n      <td>14617</td>\n      <td>6181</td>\n      <td>19801</td>\n    </tr>\n    <tr>\n      <td>Nov 2019</td>\n      <td>724</td>\n      <td>7539</td>\n      <td>12868</td>\n      <td>5926</td>\n      <td>15630</td>\n      <td>5658</td>\n      <td>547</td>\n      <td>2874</td>\n      <td>8804</td>\n      <td>21481</td>\n      <td>24436</td>\n      <td>16744</td>\n      <td>5923</td>\n      <td>22659</td>\n      <td>2850</td>\n      <td>5181</td>\n      <td>14628</td>\n      <td>6205</td>\n      <td>19809</td>\n    </tr>\n    <tr>\n      <td>Dec 2019</td>\n      <td>715</td>\n      <td>7555</td>\n      <td>12866</td>\n      <td>5933</td>\n      <td>15672</td>\n      <td>5655</td>\n      <td>547</td>\n      <td>2883</td>\n      <td>8814</td>\n      <td>21503</td>\n      <td>24465</td>\n      <td>16784</td>\n      <td>5925</td>\n      <td>22679</td>\n      <td>2847</td>\n      <td>5184</td>\n      <td>14648</td>\n      <td>6202</td>\n      <td>19832</td>\n    </tr>\n    <tr>\n      <td>Jan 2020</td>\n      <td>712</td>\n      <td>7593</td>\n      <td>12844</td>\n      <td>5937</td>\n      <td>15669</td>\n      <td>5678</td>\n      <td>546</td>\n      <td>2894</td>\n      <td>8823</td>\n      <td>21523</td>\n      <td>24534</td>\n      <td>16808</td>\n      <td>5935</td>\n      <td>22714</td>\n      <td>2855</td>\n      <td>5190</td>\n      <td>14669</td>\n      <td>6224</td>\n      <td>19859</td>\n    </tr>\n    <tr>\n      <td>Feb 2020</td>\n      <td>714</td>\n      <td>7639</td>\n      <td>12852</td>\n      <td>5934</td>\n      <td>15672</td>\n      <td>5678</td>\n      <td>546</td>\n      <td>2894</td>\n      <td>8845</td>\n      <td>21550</td>\n      <td>24586</td>\n      <td>16867</td>\n      <td>5941</td>\n      <td>22745</td>\n      <td>2867</td>\n      <td>5199</td>\n      <td>14679</td>\n      <td>6224</td>\n      <td>19878</td>\n    </tr>\n    <tr>\n      <td>Mar 2020</td>\n      <td>706</td>\n      <td>7574</td>\n      <td>12806</td>\n      <td>5922</td>\n      <td>15586</td>\n      <td>5668</td>\n      <td>545</td>\n      <td>2888</td>\n      <td>8827</td>\n      <td>21456</td>\n      <td>24408</td>\n      <td>16124</td>\n      <td>5850</td>\n      <td>22728</td>\n      <td>2886</td>\n      <td>5162</td>\n      <td>14680</td>\n      <td>6213</td>\n      <td>19842</td>\n    </tr>\n    <tr>\n      <td>Apr 2020</td>\n      <td>653</td>\n      <td>6556</td>\n      <td>11489</td>\n      <td>5537</td>\n      <td>13287</td>\n      <td>5108</td>\n      <td>542</td>\n      <td>2609</td>\n      <td>8566</td>\n      <td>19254</td>\n      <td>21805</td>\n      <td>8549</td>\n      <td>4571</td>\n      <td>21776</td>\n      <td>2893</td>\n      <td>4993</td>\n      <td>13890</td>\n      <td>5650</td>\n      <td>18883</td>\n    </tr>\n    <tr>\n      <td>May 2020</td>\n      <td>633</td>\n      <td>7012</td>\n      <td>11729</td>\n      <td>5560</td>\n      <td>13673</td>\n      <td>5083</td>\n      <td>540</td>\n      <td>2569</td>\n      <td>8585</td>\n      <td>19414</td>\n      <td>22193</td>\n      <td>9954</td>\n      <td>4816</td>\n      <td>21265</td>\n      <td>2885</td>\n      <td>4956</td>\n      <td>13424</td>\n      <td>5623</td>\n      <td>18380</td>\n    </tr>\n    <tr>\n      <td>June 2020</td>\n      <td>626</td>\n      <td>7171</td>\n      <td>12062</td>\n      <td>5612</td>\n      <td>14531</td>\n      <td>5170</td>\n      <td>537</td>\n      <td>2576</td>\n      <td>8605</td>\n      <td>19725</td>\n      <td>22760</td>\n      <td>11933</td>\n      <td>5182</td>\n      <td>21317</td>\n      <td>2883</td>\n      <td>4973</td>\n      <td>13461</td>\n      <td>5707</td>\n      <td>18434</td>\n    </tr>\n    <tr>\n      <td>July 2020</td>\n      <td>620</td>\n      <td>7202</td>\n      <td>12103</td>\n      <td>5592</td>\n      <td>14785</td>\n      <td>5218</td>\n      <td>538</td>\n      <td>2565</td>\n      <td>8620</td>\n      <td>19887</td>\n      <td>22979</td>\n      <td>12566</td>\n      <td>5340</td>\n      <td>21552</td>\n      <td>2912</td>\n      <td>4964</td>\n      <td>13676</td>\n      <td>5756</td>\n      <td>18640</td>\n    </tr>\n    <tr>\n      <td>Aug 2020</td>\n      <td>619</td>\n      <td>7226</td>\n      <td>12133</td>\n      <td>5605</td>\n      <td>15046</td>\n      <td>5304</td>\n      <td>538</td>\n      <td>2588</td>\n      <td>8648</td>\n      <td>20071</td>\n      <td>23154</td>\n      <td>12704</td>\n      <td>5409</td>\n      <td>22017</td>\n      <td>3164</td>\n      <td>4988</td>\n      <td>13865</td>\n      <td>5842</td>\n      <td>18853</td>\n    </tr>\n    <tr>\n      <td>Sept 2020</td>\n      <td>621</td>\n      <td>7261</td>\n      <td>12193</td>\n      <td>5637</td>\n      <td>15061</td>\n      <td>5348</td>\n      <td>539</td>\n      <td>2641</td>\n      <td>8685</td>\n      <td>20198</td>\n      <td>23214</td>\n      <td>13117</td>\n      <td>5458</td>\n      <td>21798</td>\n      <td>3128</td>\n      <td>4921</td>\n      <td>13749</td>\n      <td>5887</td>\n      <td>18670</td>\n    </tr>\n    <tr>\n      <td>Oct 2020</td>\n      <td>623</td>\n      <td>7333</td>\n      <td>12226</td>\n      <td>5642</td>\n      <td>15156</td>\n      <td>5410</td>\n      <td>538</td>\n      <td>2613</td>\n      <td>8715</td>\n      <td>20429</td>\n      <td>23276</td>\n      <td>13387</td>\n      <td>5502</td>\n      <td>21531</td>\n      <td>2986</td>\n      <td>4854</td>\n      <td>13691</td>\n      <td>5948</td>\n      <td>18545</td>\n    </tr>\n    <tr>\n      <td>Nov 2020</td>\n      <td>624</td>\n      <td>7360</td>\n      <td>12253</td>\n      <td>5653</td>\n      <td>15122</td>\n      <td>5555</td>\n      <td>538</td>\n      <td>2614</td>\n      <td>8730</td>\n      <td>20489</td>\n      <td>23330</td>\n      <td>13418</td>\n      <td>5509</td>\n      <td>21432</td>\n      <td>2900</td>\n      <td>4854</td>\n      <td>13678</td>\n      <td>6093</td>\n      <td>18532</td>\n    </tr>\n  </tbody>\n</table>\n</div>"
     },
     "metadata": {},
     "execution_count": 153
    }
   ],
   "source": [
    "femp = femp.rename({'Federal': 'Federal government', 'State and local': 'State and local government'}, axis=1)\n",
    "femp"
   ]
  },
  {
   "cell_type": "code",
   "execution_count": 155,
   "metadata": {},
   "outputs": [
    {
     "output_type": "execute_result",
     "data": {
      "text/plain": [
       "\"[{'name': 'Mining and logging', 'data': [746, 741, 741, 741, 743, 741, 736, 731, 731, 735, 724, 715, 712, 714, 706, 653, 633, 626, 620, 619, 621, 623, 624]}, {'name': 'Construction', 'data': [7452, 7423, 7443, 7469, 7478, 7497, 7504, 7508, 7524, 7541, 7539, 7555, 7593, 7639, 7574, 6556, 7012, 7171, 7202, 7226, 7261, 7333, 7360]}, {'name': 'Manufacturing', 'data': [12825, 12830, 12827, 12829, 12829, 12838, 12845, 12848, 12851, 12810, 12868, 12866, 12844, 12852, 12806, 11489, 11729, 12062, 12103, 12133, 12193, 12226, 12253]}, {'name': 'Wholesale trade', 'data': [5878, 5884, 5880, 5893, 5897, 5898, 5906, 5906, 5913, 5923, 5926, 5933, 5937, 5934, 5922, 5537, 5560, 5612, 5592, 5605, 5637, 5642, 5653]}, {'name': 'Retail trade', 'data': [15696, 15667, 15642, 15631, 15618, 15613, 15614, 15613, 15622, 15644, 15630, 15672, 15669, 15672, 15586, 13287, 13673, 14531, 14785, 15046, 15061, 15156, 15122]}, {'name': 'Transportation, warehousing, and utilities', 'data': [6135, 6135, 6141, 6146, 6150, 6172, 6171, 6166, 6175, 6181, 6205, 6202, 6224, 6224, 6213, 5650, 5623, 5707, 5756, 5842, 5887, 5948, 6093]}, {'name': 'Information', 'data': [2843, 2841, 2851, 2845, 2853, 2865, 2862, 2861, 2866, 2865, 2874, 2883, 2894, 2894, 2888, 2609, 2569, 2576, 2565, 2588, 2641, 2613, 2614]}, {'name': 'Financial activities', 'data': [8676, 8690, 8707, 8721, 8727, 8732, 8753, 8768, 8771, 8792, 8804, 8814, 8823, 8845, 8827, 8566, 8585, 8605, 8620, 8648, 8685, 8715, 8730]}, {'name': 'Professional and business services', 'data': [21126, 21164, 21176, 21226, 21253, 21294, 21337, 21377, 21402, 21444, 21481, 21503, 21523, 21550, 21456, 19254, 19414, 19725, 19887, 20071, 20198, 20429, 20489]}, {'name': 'Education and health services', 'data': [23900, 23918, 23981, 24046, 24076, 24131, 24204, 24262, 24323, 24363, 24436, 24465, 24534, 24586, 24408, 21805, 22193, 22760, 22979, 23154, 23214, 23276, 23330]}, {'name': 'Leisure and hospitality', 'data': [16496, 16473, 16494, 16507, 16519, 16526, 16528, 16570, 16631, 16701, 16744, 16784, 16808, 16867, 16124, 8549, 9954, 11933, 12566, 12704, 13117, 13387, 13418]}, {'name': 'Other services', 'data': [5853, 5854, 5869, 5884, 5881, 5896, 5905, 5910, 5907, 5907, 5923, 5925, 5935, 5941, 5850, 4571, 4816, 5182, 5340, 5409, 5458, 5502, 5509]}, {'name': 'Federal government', 'data': [2811, 2814, 2815, 2823, 2826, 2829, 2831, 2857, 2857, 2844, 2850, 2847, 2855, 2867, 2886, 2893, 2885, 2883, 2912, 3164, 3128, 2986, 2900]}, {'name': 'State and local government', 'data': [19695, 19699, 19713, 19730, 19725, 19724, 19756, 19780, 19793, 19801, 19809, 19832, 19859, 19878, 19842, 18883, 18380, 18434, 18640, 18853, 18670, 18545, 18532]}]\""
      ]
     },
     "metadata": {},
     "execution_count": 155
    }
   ],
   "source": [
    "final2 = femp[df.columns].to_dict()\n",
    "str([{'name': key, 'data': list(final2[key].values())} for key in final2.keys()])"
   ]
  },
  {
   "cell_type": "code",
   "execution_count": 65,
   "metadata": {},
   "outputs": [
    {
     "output_type": "execute_result",
     "data": {
      "text/plain": [
       "                                                    Less than high school diploma  \\\n",
       "2019 National Employment Matrix title and code                                      \n",
       "Total, all occupations                                                        8.1   \n",
       "Chief executives                                                              1.4   \n",
       "General and operations managers                                               2.6   \n",
       "Legislators                                                                   1.4   \n",
       "Advertising and promotions managers                                           0.5   \n",
       "...                                                                           ...   \n",
       "Textile winding, twisting, and drawing out mach...                           29.3   \n",
       "Extruding and forming machine setters, operator...                           30.3   \n",
       "Fabric and apparel patternmakers                                             30.3   \n",
       "Upholsterers                                                                 32.6   \n",
       "Textile, apparel, and furnishings workers, all ...                           30.3   \n",
       "\n",
       "                                                    High school diploma or equivalent  \\\n",
       "2019 National Employment Matrix title and code                                          \n",
       "Total, all occupations                                                           23.6   \n",
       "Chief executives                                                                  8.6   \n",
       "General and operations managers                                                  17.2   \n",
       "Legislators                                                                       8.6   \n",
       "Advertising and promotions managers                                               6.2   \n",
       "...                                                                               ...   \n",
       "Textile winding, twisting, and drawing out mach...                               43.3   \n",
       "Extruding and forming machine setters, operator...                               34.5   \n",
       "Fabric and apparel patternmakers                                                 34.5   \n",
       "Upholsterers                                                                     38.9   \n",
       "Textile, apparel, and furnishings workers, all ...                               34.5   \n",
       "\n",
       "                                                    Some college, no degree  \\\n",
       "2019 National Employment Matrix title and code                                \n",
       "Total, all occupations                                                 20.3   \n",
       "Chief executives                                                       14.5   \n",
       "General and operations managers                                        25.5   \n",
       "Legislators                                                            14.5   \n",
       "Advertising and promotions managers                                    10.9   \n",
       "...                                                                     ...   \n",
       "Textile winding, twisting, and drawing out mach...                     14.1   \n",
       "Extruding and forming machine setters, operator...                     14.2   \n",
       "Fabric and apparel patternmakers                                       14.2   \n",
       "Upholsterers                                                           16.2   \n",
       "Textile, apparel, and furnishings workers, all ...                     14.2   \n",
       "\n",
       "                                                    Associate's degree  \\\n",
       "2019 National Employment Matrix title and code                           \n",
       "Total, all occupations                                             9.6   \n",
       "Chief executives                                                   5.4   \n",
       "General and operations managers                                    9.7   \n",
       "Legislators                                                        5.4   \n",
       "Advertising and promotions managers                                5.8   \n",
       "...                                                                ...   \n",
       "Textile winding, twisting, and drawing out mach...                 8.0   \n",
       "Extruding and forming machine setters, operator...                 9.3   \n",
       "Fabric and apparel patternmakers                                   9.3   \n",
       "Upholsterers                                                       6.5   \n",
       "Textile, apparel, and furnishings workers, all ...                 9.3   \n",
       "\n",
       "                                                    Bachelor's degree  \\\n",
       "2019 National Employment Matrix title and code                          \n",
       "Total, all occupations                                           23.5   \n",
       "Chief executives                                                 39.9   \n",
       "General and operations managers                                  32.5   \n",
       "Legislators                                                      39.9   \n",
       "Advertising and promotions managers                              61.6   \n",
       "...                                                               ...   \n",
       "Textile winding, twisting, and drawing out mach...                2.7   \n",
       "Extruding and forming machine setters, operator...                9.3   \n",
       "Fabric and apparel patternmakers                                  9.3   \n",
       "Upholsterers                                                      5.1   \n",
       "Textile, apparel, and furnishings workers, all ...                9.3   \n",
       "\n",
       "                                                    Master's degree  \\\n",
       "2019 National Employment Matrix title and code                        \n",
       "Total, all occupations                                         10.5   \n",
       "Chief executives                                               23.3   \n",
       "General and operations managers                                11.0   \n",
       "Legislators                                                    23.3   \n",
       "Advertising and promotions managers                            12.9   \n",
       "...                                                             ...   \n",
       "Textile winding, twisting, and drawing out mach...              2.6   \n",
       "Extruding and forming machine setters, operator...              2.0   \n",
       "Fabric and apparel patternmakers                                2.0   \n",
       "Upholsterers                                                    0.6   \n",
       "Textile, apparel, and furnishings workers, all ...              2.0   \n",
       "\n",
       "                                                    Doctoral or professional degree  \n",
       "2019 National Employment Matrix title and code                                       \n",
       "Total, all occupations                                                          4.4  \n",
       "Chief executives                                                                6.9  \n",
       "General and operations managers                                                 1.5  \n",
       "Legislators                                                                     6.9  \n",
       "Advertising and promotions managers                                             2.2  \n",
       "...                                                                             ...  \n",
       "Textile winding, twisting, and drawing out mach...                              0.0  \n",
       "Extruding and forming machine setters, operator...                              0.4  \n",
       "Fabric and apparel patternmakers                                                0.4  \n",
       "Upholsterers                                                                    0.0  \n",
       "Textile, apparel, and furnishings workers, all ...                              0.4  \n",
       "\n",
       "[698 rows x 7 columns]"
      ],
      "text/html": "<div>\n<style scoped>\n    .dataframe tbody tr th:only-of-type {\n        vertical-align: middle;\n    }\n\n    .dataframe tbody tr th {\n        vertical-align: top;\n    }\n\n    .dataframe thead th {\n        text-align: right;\n    }\n</style>\n<table border=\"1\" class=\"dataframe\">\n  <thead>\n    <tr style=\"text-align: right;\">\n      <th></th>\n      <th>Less than high school diploma</th>\n      <th>High school diploma or equivalent</th>\n      <th>Some college, no degree</th>\n      <th>Associate's degree</th>\n      <th>Bachelor's degree</th>\n      <th>Master's degree</th>\n      <th>Doctoral or professional degree</th>\n    </tr>\n    <tr>\n      <th>2019 National Employment Matrix title and code</th>\n      <th></th>\n      <th></th>\n      <th></th>\n      <th></th>\n      <th></th>\n      <th></th>\n      <th></th>\n    </tr>\n  </thead>\n  <tbody>\n    <tr>\n      <td>Total, all occupations</td>\n      <td>8.1</td>\n      <td>23.6</td>\n      <td>20.3</td>\n      <td>9.6</td>\n      <td>23.5</td>\n      <td>10.5</td>\n      <td>4.4</td>\n    </tr>\n    <tr>\n      <td>Chief executives</td>\n      <td>1.4</td>\n      <td>8.6</td>\n      <td>14.5</td>\n      <td>5.4</td>\n      <td>39.9</td>\n      <td>23.3</td>\n      <td>6.9</td>\n    </tr>\n    <tr>\n      <td>General and operations managers</td>\n      <td>2.6</td>\n      <td>17.2</td>\n      <td>25.5</td>\n      <td>9.7</td>\n      <td>32.5</td>\n      <td>11.0</td>\n      <td>1.5</td>\n    </tr>\n    <tr>\n      <td>Legislators</td>\n      <td>1.4</td>\n      <td>8.6</td>\n      <td>14.5</td>\n      <td>5.4</td>\n      <td>39.9</td>\n      <td>23.3</td>\n      <td>6.9</td>\n    </tr>\n    <tr>\n      <td>Advertising and promotions managers</td>\n      <td>0.5</td>\n      <td>6.2</td>\n      <td>10.9</td>\n      <td>5.8</td>\n      <td>61.6</td>\n      <td>12.9</td>\n      <td>2.2</td>\n    </tr>\n    <tr>\n      <td>...</td>\n      <td>...</td>\n      <td>...</td>\n      <td>...</td>\n      <td>...</td>\n      <td>...</td>\n      <td>...</td>\n      <td>...</td>\n    </tr>\n    <tr>\n      <td>Textile winding, twisting, and drawing out machine setters, operators, and tenders</td>\n      <td>29.3</td>\n      <td>43.3</td>\n      <td>14.1</td>\n      <td>8.0</td>\n      <td>2.7</td>\n      <td>2.6</td>\n      <td>0.0</td>\n    </tr>\n    <tr>\n      <td>Extruding and forming machine setters, operators, and tenders, synthetic and glass fibers</td>\n      <td>30.3</td>\n      <td>34.5</td>\n      <td>14.2</td>\n      <td>9.3</td>\n      <td>9.3</td>\n      <td>2.0</td>\n      <td>0.4</td>\n    </tr>\n    <tr>\n      <td>Fabric and apparel patternmakers</td>\n      <td>30.3</td>\n      <td>34.5</td>\n      <td>14.2</td>\n      <td>9.3</td>\n      <td>9.3</td>\n      <td>2.0</td>\n      <td>0.4</td>\n    </tr>\n    <tr>\n      <td>Upholsterers</td>\n      <td>32.6</td>\n      <td>38.9</td>\n      <td>16.2</td>\n      <td>6.5</td>\n      <td>5.1</td>\n      <td>0.6</td>\n      <td>0.0</td>\n    </tr>\n    <tr>\n      <td>Textile, apparel, and furnishings workers, all other</td>\n      <td>30.3</td>\n      <td>34.5</td>\n      <td>14.2</td>\n      <td>9.3</td>\n      <td>9.3</td>\n      <td>2.0</td>\n      <td>0.4</td>\n    </tr>\n  </tbody>\n</table>\n<p>698 rows × 7 columns</p>\n</div>"
     },
     "metadata": {},
     "execution_count": 65
    }
   ],
   "source": [
    "prof = pd.read_html('Educational attainment.html')[0]\n",
    "prof = prof.applymap(lambda x: x.replace('(1)','') if isinstance(x, str) else x).set_index(prof.columns[0]).iloc[:-1, 1:]\n",
    "prof"
   ]
  },
  {
   "cell_type": "code",
   "execution_count": 92,
   "metadata": {
    "tags": []
   },
   "outputs": [
    {
     "output_type": "execute_result",
     "data": {
      "text/plain": [
       "['Less than high school diploma',\n",
       " 'High school diploma or equivalent',\n",
       " 'Some college, no degree',\n",
       " \"Associate's degree\",\n",
       " \"Bachelor's degree\",\n",
       " \"Master's degree\",\n",
       " 'Doctoral or professional degree']"
      ]
     },
     "metadata": {},
     "execution_count": 92
    }
   ],
   "source": [
    "sprof = prof[(prof.index.str.contains('Total'))|(prof.index.str.contains('Mechanical engineers'))|(prof.index.str.contains('Civil engineers'))|(prof.index.str.contains('Elementary'))|(prof.index.str.contains('Secondary'))|(prof.index.str.contains('Chief'))|(prof.index.str.contains('Data Scientists'))|(prof.index.str.contains('Data Scientists'))|(prof.index.str.contains('Lawyers'))]\n",
    "# prof[(prof.index.str.contains('Law'))]\n",
    "sprof.columns.tolist()\n",
    "# sprof = sprof.transpose().to_dict()"
   ]
  },
  {
   "cell_type": "code",
   "execution_count": 88,
   "metadata": {},
   "outputs": [
    {
     "output_type": "execute_result",
     "data": {
      "text/plain": [
       "{'Total, all occupations': {'Less than high school diploma': 8.1,\n",
       "  'High school diploma or equivalent': 23.6,\n",
       "  'Some college, no degree': 20.3,\n",
       "  \"Associate's degree\": 9.6,\n",
       "  \"Bachelor's degree\": 23.5,\n",
       "  \"Master's degree\": 10.5,\n",
       "  'Doctoral or professional degree': 4.4},\n",
       " 'Chief executives': {'Less than high school diploma': 1.4,\n",
       "  'High school diploma or equivalent': 8.6,\n",
       "  'Some college, no degree': 14.5,\n",
       "  \"Associate's degree\": 5.4,\n",
       "  \"Bachelor's degree\": 39.9,\n",
       "  \"Master's degree\": 23.3,\n",
       "  'Doctoral or professional degree': 6.9},\n",
       " 'Civil engineers': {'Less than high school diploma': 0.4,\n",
       "  'High school diploma or equivalent': 2.6,\n",
       "  'Some college, no degree': 5.5,\n",
       "  \"Associate's degree\": 5.1,\n",
       "  \"Bachelor's degree\": 56.4,\n",
       "  \"Master's degree\": 25.4,\n",
       "  'Doctoral or professional degree': 4.5},\n",
       " 'Mechanical engineers': {'Less than high school diploma': 0.7,\n",
       "  'High school diploma or equivalent': 4.4,\n",
       "  'Some college, no degree': 7.1,\n",
       "  \"Associate's degree\": 9.9,\n",
       "  \"Bachelor's degree\": 52.5,\n",
       "  \"Master's degree\": 22.4,\n",
       "  'Doctoral or professional degree': 3.0},\n",
       " 'Lawyers': {'Less than high school diploma': 0.2,\n",
       "  'High school diploma or equivalent': 0.4,\n",
       "  'Some college, no degree': 0.7,\n",
       "  \"Associate's degree\": 0.5,\n",
       "  \"Bachelor's degree\": 5.5,\n",
       "  \"Master's degree\": 4.3,\n",
       "  'Doctoral or professional degree': 88.4},\n",
       " 'Elementary school teachers, except special education': {'Less than high school diploma': 0.0,\n",
       "  'High school diploma or equivalent': 0.0,\n",
       "  'Some college, no degree': 3.1,\n",
       "  \"Associate's degree\": 2.3,\n",
       "  \"Bachelor's degree\": 42.9,\n",
       "  \"Master's degree\": 47.3,\n",
       "  'Doctoral or professional degree': 4.3},\n",
       " 'Secondary school teachers, except special and career/technical education': {'Less than high school diploma': 0.0,\n",
       "  'High school diploma or equivalent': 0.0,\n",
       "  'Some college, no degree': 2.5,\n",
       "  \"Associate's degree\": 1.8,\n",
       "  \"Bachelor's degree\": 40.0,\n",
       "  \"Master's degree\": 50.8,\n",
       "  'Doctoral or professional degree': 4.9}}"
      ]
     },
     "metadata": {},
     "execution_count": 88
    }
   ],
   "source": [
    "sprof"
   ]
  },
  {
   "cell_type": "code",
   "execution_count": 89,
   "metadata": {},
   "outputs": [
    {
     "output_type": "execute_result",
     "data": {
      "text/plain": [
       "\"[{'name': 'Total, all occupations', 'data': [8.1, 23.6, 20.3, 9.6, 23.5, 10.5, 4.4]}, {'name': 'Chief executives', 'data': [1.4, 8.6, 14.5, 5.4, 39.9, 23.3, 6.9]}, {'name': 'Civil engineers', 'data': [0.4, 2.6, 5.5, 5.1, 56.4, 25.4, 4.5]}, {'name': 'Mechanical engineers', 'data': [0.7, 4.4, 7.1, 9.9, 52.5, 22.4, 3.0]}, {'name': 'Lawyers', 'data': [0.2, 0.4, 0.7, 0.5, 5.5, 4.3, 88.4]}, {'name': 'Elementary school teachers, except special education', 'data': [0.0, 0.0, 3.1, 2.3, 42.9, 47.3, 4.3]}, {'name': 'Secondary school teachers, except special and career/technical education', 'data': [0.0, 0.0, 2.5, 1.8, 40.0, 50.8, 4.9]}]\""
      ]
     },
     "metadata": {},
     "execution_count": 89
    }
   ],
   "source": [
    "str([{'name': key, 'data': list(sprof[key].values())} for key in sprof.keys()])"
   ]
  },
  {
   "cell_type": "code",
   "execution_count": null,
   "metadata": {},
   "outputs": [],
   "source": []
  }
 ]
}